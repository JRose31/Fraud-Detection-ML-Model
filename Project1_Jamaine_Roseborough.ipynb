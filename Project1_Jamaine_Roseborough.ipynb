{
  "nbformat": 4,
  "nbformat_minor": 0,
  "metadata": {
    "colab": {
      "name": "Project1_Jamaine_Roseborough.ipynb",
      "provenance": [],
      "toc_visible": true,
      "authorship_tag": "ABX9TyMIz2oyUDo9hTXQ3mODPDl6",
      "include_colab_link": true
    },
    "kernelspec": {
      "name": "python3",
      "display_name": "Python 3"
    },
    "language_info": {
      "name": "python"
    }
  },
  "cells": [
    {
      "cell_type": "markdown",
      "metadata": {
        "id": "view-in-github",
        "colab_type": "text"
      },
      "source": [
        "<a href=\"https://colab.research.google.com/github/JRose31/GNB-ML-Model/blob/main/Project1_Jamaine_Roseborough.ipynb\" target=\"_parent\"><img src=\"https://colab.research.google.com/assets/colab-badge.svg\" alt=\"Open In Colab\"/></a>"
      ]
    },
    {
      "cell_type": "markdown",
      "metadata": {
        "id": "DODhWjAIQ5WW"
      },
      "source": [
        "#GNB Machine Learning Model **Project 1**\n",
        "Jamaine D Roseborough"
      ]
    },
    {
      "cell_type": "markdown",
      "metadata": {
        "id": "zqmmvJwERF3e"
      },
      "source": [
        "## Defining Our Problem"
      ]
    },
    {
      "cell_type": "markdown",
      "metadata": {
        "id": "WAJegti0RIxg"
      },
      "source": [
        "Utilizing transaction data, we seek to predict whether or not a future customer will make a transaction based on their transaction data. "
      ]
    },
    {
      "cell_type": "markdown",
      "metadata": {
        "id": "0a7e5IofRfBn"
      },
      "source": [
        "## Collect / Load the Data"
      ]
    },
    {
      "cell_type": "code",
      "metadata": {
        "colab": {
          "base_uri": "https://localhost:8080/"
        },
        "id": "EaV_ELfIRiHl",
        "outputId": "d31dccea-a46b-453d-e388-824fef3b0e97"
      },
      "source": [
        "# Import necessary libraries\n",
        "import pandas as pd\n",
        "import numpy as np\n",
        "import matplotlib.pyplot as plt\n",
        "import seaborn as sns\n",
        "\n",
        "# Set style used for all graphics outputs\n",
        "plt.style.use('ggplot')\n",
        "# Mount drive to access data\n",
        "from google.colab import drive\n",
        "drive.mount('/drive')"
      ],
      "execution_count": 1,
      "outputs": [
        {
          "output_type": "stream",
          "name": "stdout",
          "text": [
            "Mounted at /drive\n"
          ]
        }
      ]
    },
    {
      "cell_type": "markdown",
      "metadata": {
        "id": "kClq7KW2aylm"
      },
      "source": [
        "Next, we'll read in the csv file into our script."
      ]
    },
    {
      "cell_type": "code",
      "metadata": {
        "id": "WWig8rKRSybq"
      },
      "source": [
        "# Load data from location in drive\n",
        "trans_data = pd.read_csv('/drive/My Drive/Cohort_7/Projects/Project 1/Data/Train.csv')"
      ],
      "execution_count": 2,
      "outputs": []
    },
    {
      "cell_type": "markdown",
      "metadata": {
        "id": "1ViK3GgJS41m"
      },
      "source": [
        "## Data Examination & Cleaning"
      ]
    },
    {
      "cell_type": "markdown",
      "metadata": {
        "id": "20jTqva9cnFq"
      },
      "source": [
        "Getting a look at our dataset now, things we want to keep an eye out for:\n",
        "\n",
        "\n",
        "*   Null Values\n",
        "*   Shape and structure of dataset\n",
        "*   Inconsistent Data Types\n",
        "*   Meaning of recorded values\n",
        "*   Meaning of our headers (if given)\n",
        "\n",
        "\n",
        "\n"
      ]
    },
    {
      "cell_type": "markdown",
      "metadata": {
        "id": "o1I18PkVcuLD"
      },
      "source": [
        "Lets take a look at the first 5 rows of our dataset using the `.head()` method."
      ]
    },
    {
      "cell_type": "code",
      "metadata": {
        "colab": {
          "base_uri": "https://localhost:8080/",
          "height": 243
        },
        "id": "WUINH0pXS9Zi",
        "outputId": "49d18311-1159-46d1-f8e0-859635df8069"
      },
      "source": [
        "# Look at first 5 rows of dataset\n",
        "trans_data.head()"
      ],
      "execution_count": 3,
      "outputs": [
        {
          "output_type": "execute_result",
          "data": {
            "text/html": [
              "<div>\n",
              "<style scoped>\n",
              "    .dataframe tbody tr th:only-of-type {\n",
              "        vertical-align: middle;\n",
              "    }\n",
              "\n",
              "    .dataframe tbody tr th {\n",
              "        vertical-align: top;\n",
              "    }\n",
              "\n",
              "    .dataframe thead th {\n",
              "        text-align: right;\n",
              "    }\n",
              "</style>\n",
              "<table border=\"1\" class=\"dataframe\">\n",
              "  <thead>\n",
              "    <tr style=\"text-align: right;\">\n",
              "      <th></th>\n",
              "      <th>Unnamed: 0</th>\n",
              "      <th>ID_code</th>\n",
              "      <th>target</th>\n",
              "      <th>var_0</th>\n",
              "      <th>var_1</th>\n",
              "      <th>var_2</th>\n",
              "      <th>var_3</th>\n",
              "      <th>var_4</th>\n",
              "      <th>var_5</th>\n",
              "      <th>var_6</th>\n",
              "      <th>var_7</th>\n",
              "      <th>var_8</th>\n",
              "      <th>var_9</th>\n",
              "      <th>var_10</th>\n",
              "      <th>var_11</th>\n",
              "      <th>var_12</th>\n",
              "      <th>var_13</th>\n",
              "      <th>var_14</th>\n",
              "      <th>var_15</th>\n",
              "      <th>var_16</th>\n",
              "      <th>var_17</th>\n",
              "      <th>var_18</th>\n",
              "      <th>var_19</th>\n",
              "      <th>var_20</th>\n",
              "      <th>var_21</th>\n",
              "      <th>var_22</th>\n",
              "      <th>var_23</th>\n",
              "      <th>var_24</th>\n",
              "      <th>var_25</th>\n",
              "      <th>var_26</th>\n",
              "      <th>var_27</th>\n",
              "      <th>var_28</th>\n",
              "      <th>var_29</th>\n",
              "      <th>var_30</th>\n",
              "      <th>var_31</th>\n",
              "      <th>var_32</th>\n",
              "      <th>var_33</th>\n",
              "      <th>var_34</th>\n",
              "      <th>var_35</th>\n",
              "      <th>var_36</th>\n",
              "      <th>var_37</th>\n",
              "      <th>var_38</th>\n",
              "      <th>var_39</th>\n",
              "      <th>var_40</th>\n",
              "      <th>var_41</th>\n",
              "      <th>var_42</th>\n",
              "      <th>var_43</th>\n",
              "      <th>var_44</th>\n",
              "      <th>var_45</th>\n",
              "      <th>var_46</th>\n",
              "      <th>var_47</th>\n",
              "      <th>var_48</th>\n",
              "      <th>var_49</th>\n",
              "    </tr>\n",
              "  </thead>\n",
              "  <tbody>\n",
              "    <tr>\n",
              "      <th>0</th>\n",
              "      <td>0</td>\n",
              "      <td>train_0</td>\n",
              "      <td>0</td>\n",
              "      <td>8.9255</td>\n",
              "      <td>-6.7863</td>\n",
              "      <td>11.9081</td>\n",
              "      <td>5.1187</td>\n",
              "      <td>5.7470</td>\n",
              "      <td>14.0137</td>\n",
              "      <td>0.5745</td>\n",
              "      <td>4.2840</td>\n",
              "      <td>16.2191</td>\n",
              "      <td>2.5791</td>\n",
              "      <td>-5.1488</td>\n",
              "      <td>16.8911</td>\n",
              "      <td>11.1920</td>\n",
              "      <td>-5.2387</td>\n",
              "      <td>11.6418</td>\n",
              "      <td>5.1736</td>\n",
              "      <td>22.4321</td>\n",
              "      <td>-2.3440</td>\n",
              "      <td>6.5199</td>\n",
              "      <td>13.6468</td>\n",
              "      <td>13.8372</td>\n",
              "      <td>9.3225</td>\n",
              "      <td>11.0924</td>\n",
              "      <td>14.8421</td>\n",
              "      <td>-3.4132</td>\n",
              "      <td>14.1104</td>\n",
              "      <td>24.3627</td>\n",
              "      <td>2.0323</td>\n",
              "      <td>1.5093</td>\n",
              "      <td>0.8897</td>\n",
              "      <td>6.5674</td>\n",
              "      <td>15.6599</td>\n",
              "      <td>11.5659</td>\n",
              "      <td>-16.4727</td>\n",
              "      <td>4.0288</td>\n",
              "      <td>17.9244</td>\n",
              "      <td>10.4838</td>\n",
              "      <td>6.6760</td>\n",
              "      <td>12.6644</td>\n",
              "      <td>2.7004</td>\n",
              "      <td>5.4879</td>\n",
              "      <td>-4.7645</td>\n",
              "      <td>3.1531</td>\n",
              "      <td>18.5618</td>\n",
              "      <td>1.7202</td>\n",
              "      <td>25.8398</td>\n",
              "      <td>4.4354</td>\n",
              "      <td>3.9642</td>\n",
              "      <td>3.1364</td>\n",
              "      <td>12.7803</td>\n",
              "    </tr>\n",
              "    <tr>\n",
              "      <th>1</th>\n",
              "      <td>1</td>\n",
              "      <td>train_1</td>\n",
              "      <td>0</td>\n",
              "      <td>11.5006</td>\n",
              "      <td>-4.1473</td>\n",
              "      <td>13.8588</td>\n",
              "      <td>5.6208</td>\n",
              "      <td>8.0851</td>\n",
              "      <td>14.0239</td>\n",
              "      <td>8.4135</td>\n",
              "      <td>7.8000</td>\n",
              "      <td>2.7407</td>\n",
              "      <td>8.5524</td>\n",
              "      <td>-11.7684</td>\n",
              "      <td>19.3710</td>\n",
              "      <td>11.3702</td>\n",
              "      <td>-11.1147</td>\n",
              "      <td>1.2444</td>\n",
              "      <td>6.6885</td>\n",
              "      <td>7.9344</td>\n",
              "      <td>3.2709</td>\n",
              "      <td>5.5075</td>\n",
              "      <td>2.5462</td>\n",
              "      <td>18.1782</td>\n",
              "      <td>-13.5901</td>\n",
              "      <td>8.0905</td>\n",
              "      <td>11.7569</td>\n",
              "      <td>0.6939</td>\n",
              "      <td>13.9550</td>\n",
              "      <td>13.0858</td>\n",
              "      <td>6.6203</td>\n",
              "      <td>4.1569</td>\n",
              "      <td>8.2736</td>\n",
              "      <td>7.0513</td>\n",
              "      <td>16.1622</td>\n",
              "      <td>8.9231</td>\n",
              "      <td>11.7700</td>\n",
              "      <td>4.2578</td>\n",
              "      <td>-4.4223</td>\n",
              "      <td>-0.5687</td>\n",
              "      <td>-5.0121</td>\n",
              "      <td>15.1345</td>\n",
              "      <td>3.2003</td>\n",
              "      <td>5.7999</td>\n",
              "      <td>5.5378</td>\n",
              "      <td>5.5134</td>\n",
              "      <td>30.2645</td>\n",
              "      <td>11.0752</td>\n",
              "      <td>22.5441</td>\n",
              "      <td>7.6421</td>\n",
              "      <td>7.7214</td>\n",
              "      <td>2.5837</td>\n",
              "      <td>18.3560</td>\n",
              "    </tr>\n",
              "    <tr>\n",
              "      <th>2</th>\n",
              "      <td>2</td>\n",
              "      <td>train_2</td>\n",
              "      <td>0</td>\n",
              "      <td>8.6093</td>\n",
              "      <td>-2.7457</td>\n",
              "      <td>12.0805</td>\n",
              "      <td>6.9427</td>\n",
              "      <td>5.9525</td>\n",
              "      <td>14.1929</td>\n",
              "      <td>7.3124</td>\n",
              "      <td>4.7011</td>\n",
              "      <td>18.1377</td>\n",
              "      <td>1.2145</td>\n",
              "      <td>-7.9940</td>\n",
              "      <td>19.0422</td>\n",
              "      <td>11.0449</td>\n",
              "      <td>-13.5174</td>\n",
              "      <td>4.1006</td>\n",
              "      <td>6.4059</td>\n",
              "      <td>9.8565</td>\n",
              "      <td>4.5048</td>\n",
              "      <td>6.3191</td>\n",
              "      <td>7.4729</td>\n",
              "      <td>15.7811</td>\n",
              "      <td>-4.4577</td>\n",
              "      <td>14.1613</td>\n",
              "      <td>14.2621</td>\n",
              "      <td>-0.0269</td>\n",
              "      <td>14.1963</td>\n",
              "      <td>20.3882</td>\n",
              "      <td>3.2304</td>\n",
              "      <td>2.9044</td>\n",
              "      <td>2.7768</td>\n",
              "      <td>6.6231</td>\n",
              "      <td>8.6674</td>\n",
              "      <td>11.4934</td>\n",
              "      <td>1.7624</td>\n",
              "      <td>4.0714</td>\n",
              "      <td>-1.2681</td>\n",
              "      <td>-5.1747</td>\n",
              "      <td>-1.0410</td>\n",
              "      <td>20.5092</td>\n",
              "      <td>3.2790</td>\n",
              "      <td>5.7690</td>\n",
              "      <td>-7.0927</td>\n",
              "      <td>-5.8234</td>\n",
              "      <td>25.6820</td>\n",
              "      <td>2.4013</td>\n",
              "      <td>23.0866</td>\n",
              "      <td>2.9057</td>\n",
              "      <td>9.7905</td>\n",
              "      <td>1.6704</td>\n",
              "      <td>14.7222</td>\n",
              "    </tr>\n",
              "    <tr>\n",
              "      <th>3</th>\n",
              "      <td>3</td>\n",
              "      <td>train_3</td>\n",
              "      <td>0</td>\n",
              "      <td>11.0604</td>\n",
              "      <td>-2.1518</td>\n",
              "      <td>8.9522</td>\n",
              "      <td>5.8428</td>\n",
              "      <td>8.2450</td>\n",
              "      <td>13.8463</td>\n",
              "      <td>11.9704</td>\n",
              "      <td>15.9426</td>\n",
              "      <td>12.5579</td>\n",
              "      <td>6.8202</td>\n",
              "      <td>0.8135</td>\n",
              "      <td>6.1796</td>\n",
              "      <td>10.6093</td>\n",
              "      <td>-3.8294</td>\n",
              "      <td>8.0485</td>\n",
              "      <td>5.2091</td>\n",
              "      <td>23.6143</td>\n",
              "      <td>11.6875</td>\n",
              "      <td>4.0806</td>\n",
              "      <td>0.7839</td>\n",
              "      <td>10.5404</td>\n",
              "      <td>-2.3174</td>\n",
              "      <td>14.4027</td>\n",
              "      <td>7.2887</td>\n",
              "      <td>1.9480</td>\n",
              "      <td>14.3256</td>\n",
              "      <td>14.4135</td>\n",
              "      <td>4.2827</td>\n",
              "      <td>-2.5459</td>\n",
              "      <td>3.9618</td>\n",
              "      <td>7.1954</td>\n",
              "      <td>8.9821</td>\n",
              "      <td>10.4994</td>\n",
              "      <td>4.1622</td>\n",
              "      <td>3.7613</td>\n",
              "      <td>2.3701</td>\n",
              "      <td>17.0336</td>\n",
              "      <td>-11.0882</td>\n",
              "      <td>17.2502</td>\n",
              "      <td>2.5881</td>\n",
              "      <td>5.3430</td>\n",
              "      <td>-7.1541</td>\n",
              "      <td>11.7134</td>\n",
              "      <td>14.7483</td>\n",
              "      <td>5.6961</td>\n",
              "      <td>-0.4639</td>\n",
              "      <td>4.4666</td>\n",
              "      <td>4.7433</td>\n",
              "      <td>0.7178</td>\n",
              "      <td>17.9697</td>\n",
              "    </tr>\n",
              "    <tr>\n",
              "      <th>4</th>\n",
              "      <td>4</td>\n",
              "      <td>train_4</td>\n",
              "      <td>0</td>\n",
              "      <td>9.8369</td>\n",
              "      <td>-1.4834</td>\n",
              "      <td>12.8746</td>\n",
              "      <td>5.9405</td>\n",
              "      <td>7.6784</td>\n",
              "      <td>13.8481</td>\n",
              "      <td>7.8895</td>\n",
              "      <td>6.5263</td>\n",
              "      <td>18.9608</td>\n",
              "      <td>10.1102</td>\n",
              "      <td>3.1736</td>\n",
              "      <td>19.3239</td>\n",
              "      <td>12.4057</td>\n",
              "      <td>-5.5963</td>\n",
              "      <td>6.9087</td>\n",
              "      <td>5.7555</td>\n",
              "      <td>1.6184</td>\n",
              "      <td>1.0273</td>\n",
              "      <td>7.1734</td>\n",
              "      <td>2.9598</td>\n",
              "      <td>13.3317</td>\n",
              "      <td>7.0799</td>\n",
              "      <td>9.3627</td>\n",
              "      <td>14.0553</td>\n",
              "      <td>0.6715</td>\n",
              "      <td>14.0837</td>\n",
              "      <td>28.2749</td>\n",
              "      <td>-0.1937</td>\n",
              "      <td>-3.6135</td>\n",
              "      <td>5.2964</td>\n",
              "      <td>6.6173</td>\n",
              "      <td>13.9547</td>\n",
              "      <td>11.5670</td>\n",
              "      <td>-12.7047</td>\n",
              "      <td>3.7574</td>\n",
              "      <td>9.9110</td>\n",
              "      <td>4.7022</td>\n",
              "      <td>6.5769</td>\n",
              "      <td>21.2607</td>\n",
              "      <td>3.2304</td>\n",
              "      <td>5.5518</td>\n",
              "      <td>1.4493</td>\n",
              "      <td>2.3705</td>\n",
              "      <td>18.4685</td>\n",
              "      <td>5.1743</td>\n",
              "      <td>11.8503</td>\n",
              "      <td>-1.4905</td>\n",
              "      <td>9.5214</td>\n",
              "      <td>-0.1508</td>\n",
              "      <td>17.9974</td>\n",
              "    </tr>\n",
              "  </tbody>\n",
              "</table>\n",
              "</div>"
            ],
            "text/plain": [
              "   Unnamed: 0  ID_code  target    var_0  ...  var_46  var_47  var_48   var_49\n",
              "0           0  train_0       0   8.9255  ...  4.4354  3.9642  3.1364  12.7803\n",
              "1           1  train_1       0  11.5006  ...  7.6421  7.7214  2.5837  18.3560\n",
              "2           2  train_2       0   8.6093  ...  2.9057  9.7905  1.6704  14.7222\n",
              "3           3  train_3       0  11.0604  ...  4.4666  4.7433  0.7178  17.9697\n",
              "4           4  train_4       0   9.8369  ... -1.4905  9.5214 -0.1508  17.9974\n",
              "\n",
              "[5 rows x 53 columns]"
            ]
          },
          "metadata": {},
          "execution_count": 3
        }
      ]
    },
    {
      "cell_type": "markdown",
      "metadata": {
        "id": "eOdLM-F8dN7z"
      },
      "source": [
        "At first glance, this dataset looks neat. `ID_code` seems to function as an additional index to `Unnamed: 0`. We may be able to get rid of this."
      ]
    },
    {
      "cell_type": "markdown",
      "metadata": {
        "id": "QcPD6_8RdStX"
      },
      "source": [
        "We'll get an idea of the shape and composition of our dataset."
      ]
    },
    {
      "cell_type": "code",
      "metadata": {
        "colab": {
          "base_uri": "https://localhost:8080/"
        },
        "id": "b73eyDJHTc_8",
        "outputId": "ee96fb6a-9f7f-48c1-d515-8da726f80f75"
      },
      "source": [
        "# Get more information regarding out dataset\n",
        "trans_data.info()"
      ],
      "execution_count": 4,
      "outputs": [
        {
          "output_type": "stream",
          "name": "stdout",
          "text": [
            "<class 'pandas.core.frame.DataFrame'>\n",
            "RangeIndex: 180000 entries, 0 to 179999\n",
            "Data columns (total 53 columns):\n",
            " #   Column      Non-Null Count   Dtype  \n",
            "---  ------      --------------   -----  \n",
            " 0   Unnamed: 0  180000 non-null  int64  \n",
            " 1   ID_code     180000 non-null  object \n",
            " 2   target      180000 non-null  int64  \n",
            " 3   var_0       180000 non-null  float64\n",
            " 4   var_1       180000 non-null  float64\n",
            " 5   var_2       180000 non-null  float64\n",
            " 6   var_3       180000 non-null  float64\n",
            " 7   var_4       180000 non-null  float64\n",
            " 8   var_5       180000 non-null  float64\n",
            " 9   var_6       180000 non-null  float64\n",
            " 10  var_7       180000 non-null  float64\n",
            " 11  var_8       180000 non-null  float64\n",
            " 12  var_9       180000 non-null  float64\n",
            " 13  var_10      180000 non-null  float64\n",
            " 14  var_11      180000 non-null  float64\n",
            " 15  var_12      180000 non-null  float64\n",
            " 16  var_13      180000 non-null  float64\n",
            " 17  var_14      180000 non-null  float64\n",
            " 18  var_15      180000 non-null  float64\n",
            " 19  var_16      180000 non-null  float64\n",
            " 20  var_17      180000 non-null  float64\n",
            " 21  var_18      180000 non-null  float64\n",
            " 22  var_19      180000 non-null  float64\n",
            " 23  var_20      180000 non-null  float64\n",
            " 24  var_21      180000 non-null  float64\n",
            " 25  var_22      180000 non-null  float64\n",
            " 26  var_23      180000 non-null  float64\n",
            " 27  var_24      180000 non-null  float64\n",
            " 28  var_25      180000 non-null  float64\n",
            " 29  var_26      180000 non-null  float64\n",
            " 30  var_27      180000 non-null  float64\n",
            " 31  var_28      180000 non-null  float64\n",
            " 32  var_29      180000 non-null  float64\n",
            " 33  var_30      180000 non-null  float64\n",
            " 34  var_31      180000 non-null  float64\n",
            " 35  var_32      180000 non-null  float64\n",
            " 36  var_33      180000 non-null  float64\n",
            " 37  var_34      180000 non-null  float64\n",
            " 38  var_35      180000 non-null  float64\n",
            " 39  var_36      180000 non-null  float64\n",
            " 40  var_37      180000 non-null  float64\n",
            " 41  var_38      180000 non-null  float64\n",
            " 42  var_39      180000 non-null  float64\n",
            " 43  var_40      180000 non-null  float64\n",
            " 44  var_41      180000 non-null  float64\n",
            " 45  var_42      180000 non-null  float64\n",
            " 46  var_43      180000 non-null  float64\n",
            " 47  var_44      180000 non-null  float64\n",
            " 48  var_45      180000 non-null  float64\n",
            " 49  var_46      180000 non-null  float64\n",
            " 50  var_47      180000 non-null  float64\n",
            " 51  var_48      180000 non-null  float64\n",
            " 52  var_49      180000 non-null  float64\n",
            "dtypes: float64(50), int64(2), object(1)\n",
            "memory usage: 72.8+ MB\n"
          ]
        }
      ]
    },
    {
      "cell_type": "markdown",
      "metadata": {
        "id": "c0r40qx6dd8n"
      },
      "source": [
        "It looks like we have a dataset with 51 columns, 180,000 rows, and are dealing with either floats or integers."
      ]
    },
    {
      "cell_type": "markdown",
      "metadata": {
        "id": "OgHlQFm_du-p"
      },
      "source": [
        "Now lets look at some summary statistics of our dataset."
      ]
    },
    {
      "cell_type": "code",
      "metadata": {
        "colab": {
          "base_uri": "https://localhost:8080/",
          "height": 320
        },
        "id": "l4aEjLQiTyjC",
        "outputId": "afa3954b-173d-4651-a2f4-7cb90840db86"
      },
      "source": [
        "# Get summary statistics on our dataset\n",
        "trans_data.describe()"
      ],
      "execution_count": 5,
      "outputs": [
        {
          "output_type": "execute_result",
          "data": {
            "text/html": [
              "<div>\n",
              "<style scoped>\n",
              "    .dataframe tbody tr th:only-of-type {\n",
              "        vertical-align: middle;\n",
              "    }\n",
              "\n",
              "    .dataframe tbody tr th {\n",
              "        vertical-align: top;\n",
              "    }\n",
              "\n",
              "    .dataframe thead th {\n",
              "        text-align: right;\n",
              "    }\n",
              "</style>\n",
              "<table border=\"1\" class=\"dataframe\">\n",
              "  <thead>\n",
              "    <tr style=\"text-align: right;\">\n",
              "      <th></th>\n",
              "      <th>Unnamed: 0</th>\n",
              "      <th>target</th>\n",
              "      <th>var_0</th>\n",
              "      <th>var_1</th>\n",
              "      <th>var_2</th>\n",
              "      <th>var_3</th>\n",
              "      <th>var_4</th>\n",
              "      <th>var_5</th>\n",
              "      <th>var_6</th>\n",
              "      <th>var_7</th>\n",
              "      <th>var_8</th>\n",
              "      <th>var_9</th>\n",
              "      <th>var_10</th>\n",
              "      <th>var_11</th>\n",
              "      <th>var_12</th>\n",
              "      <th>var_13</th>\n",
              "      <th>var_14</th>\n",
              "      <th>var_15</th>\n",
              "      <th>var_16</th>\n",
              "      <th>var_17</th>\n",
              "      <th>var_18</th>\n",
              "      <th>var_19</th>\n",
              "      <th>var_20</th>\n",
              "      <th>var_21</th>\n",
              "      <th>var_22</th>\n",
              "      <th>var_23</th>\n",
              "      <th>var_24</th>\n",
              "      <th>var_25</th>\n",
              "      <th>var_26</th>\n",
              "      <th>var_27</th>\n",
              "      <th>var_28</th>\n",
              "      <th>var_29</th>\n",
              "      <th>var_30</th>\n",
              "      <th>var_31</th>\n",
              "      <th>var_32</th>\n",
              "      <th>var_33</th>\n",
              "      <th>var_34</th>\n",
              "      <th>var_35</th>\n",
              "      <th>var_36</th>\n",
              "      <th>var_37</th>\n",
              "      <th>var_38</th>\n",
              "      <th>var_39</th>\n",
              "      <th>var_40</th>\n",
              "      <th>var_41</th>\n",
              "      <th>var_42</th>\n",
              "      <th>var_43</th>\n",
              "      <th>var_44</th>\n",
              "      <th>var_45</th>\n",
              "      <th>var_46</th>\n",
              "      <th>var_47</th>\n",
              "      <th>var_48</th>\n",
              "      <th>var_49</th>\n",
              "    </tr>\n",
              "  </thead>\n",
              "  <tbody>\n",
              "    <tr>\n",
              "      <th>count</th>\n",
              "      <td>180000.000000</td>\n",
              "      <td>180000.000000</td>\n",
              "      <td>180000.000000</td>\n",
              "      <td>180000.000000</td>\n",
              "      <td>180000.000000</td>\n",
              "      <td>180000.000000</td>\n",
              "      <td>180000.000000</td>\n",
              "      <td>180000.000000</td>\n",
              "      <td>180000.00000</td>\n",
              "      <td>180000.000000</td>\n",
              "      <td>180000.000000</td>\n",
              "      <td>180000.000000</td>\n",
              "      <td>180000.000000</td>\n",
              "      <td>180000.000000</td>\n",
              "      <td>180000.000000</td>\n",
              "      <td>180000.000000</td>\n",
              "      <td>180000.000000</td>\n",
              "      <td>180000.000000</td>\n",
              "      <td>180000.000000</td>\n",
              "      <td>180000.000000</td>\n",
              "      <td>180000.000000</td>\n",
              "      <td>180000.000000</td>\n",
              "      <td>180000.000000</td>\n",
              "      <td>180000.000000</td>\n",
              "      <td>180000.000000</td>\n",
              "      <td>180000.000000</td>\n",
              "      <td>180000.000000</td>\n",
              "      <td>180000.000000</td>\n",
              "      <td>180000.000000</td>\n",
              "      <td>180000.000000</td>\n",
              "      <td>180000.000000</td>\n",
              "      <td>180000.000000</td>\n",
              "      <td>180000.000000</td>\n",
              "      <td>180000.000000</td>\n",
              "      <td>180000.000000</td>\n",
              "      <td>180000.000000</td>\n",
              "      <td>180000.000000</td>\n",
              "      <td>180000.000000</td>\n",
              "      <td>180000.000000</td>\n",
              "      <td>180000.000000</td>\n",
              "      <td>180000.000000</td>\n",
              "      <td>180000.000000</td>\n",
              "      <td>180000.000000</td>\n",
              "      <td>180000.000000</td>\n",
              "      <td>180000.000000</td>\n",
              "      <td>180000.000000</td>\n",
              "      <td>180000.000000</td>\n",
              "      <td>180000.000000</td>\n",
              "      <td>180000.000000</td>\n",
              "      <td>180000.000000</td>\n",
              "      <td>180000.000000</td>\n",
              "      <td>180000.000000</td>\n",
              "    </tr>\n",
              "    <tr>\n",
              "      <th>mean</th>\n",
              "      <td>89999.500000</td>\n",
              "      <td>0.100222</td>\n",
              "      <td>10.678650</td>\n",
              "      <td>-1.630045</td>\n",
              "      <td>10.712922</td>\n",
              "      <td>5.408688</td>\n",
              "      <td>7.566953</td>\n",
              "      <td>14.024017</td>\n",
              "      <td>8.52808</td>\n",
              "      <td>15.243424</td>\n",
              "      <td>17.264876</td>\n",
              "      <td>4.306171</td>\n",
              "      <td>-4.046449</td>\n",
              "      <td>14.777153</td>\n",
              "      <td>11.434945</td>\n",
              "      <td>-6.727860</td>\n",
              "      <td>8.942328</td>\n",
              "      <td>6.007784</td>\n",
              "      <td>11.946357</td>\n",
              "      <td>6.051401</td>\n",
              "      <td>5.347539</td>\n",
              "      <td>5.799587</td>\n",
              "      <td>14.721236</td>\n",
              "      <td>5.621549</td>\n",
              "      <td>12.735619</td>\n",
              "      <td>10.996891</td>\n",
              "      <td>-0.746871</td>\n",
              "      <td>14.224538</td>\n",
              "      <td>18.458395</td>\n",
              "      <td>5.515193</td>\n",
              "      <td>2.212756</td>\n",
              "      <td>1.190419</td>\n",
              "      <td>6.813431</td>\n",
              "      <td>7.765323</td>\n",
              "      <td>10.342814</td>\n",
              "      <td>-3.294620</td>\n",
              "      <td>3.990847</td>\n",
              "      <td>5.302094</td>\n",
              "      <td>6.980101</td>\n",
              "      <td>-2.870288</td>\n",
              "      <td>19.320843</td>\n",
              "      <td>2.963064</td>\n",
              "      <td>5.635896</td>\n",
              "      <td>-0.000418</td>\n",
              "      <td>-0.668334</td>\n",
              "      <td>20.208845</td>\n",
              "      <td>2.595090</td>\n",
              "      <td>12.756574</td>\n",
              "      <td>3.236201</td>\n",
              "      <td>7.440715</td>\n",
              "      <td>1.927078</td>\n",
              "      <td>15.870166</td>\n",
              "    </tr>\n",
              "    <tr>\n",
              "      <th>std</th>\n",
              "      <td>51961.668564</td>\n",
              "      <td>0.300297</td>\n",
              "      <td>3.041036</td>\n",
              "      <td>4.050519</td>\n",
              "      <td>2.639146</td>\n",
              "      <td>0.866265</td>\n",
              "      <td>1.235043</td>\n",
              "      <td>0.190038</td>\n",
              "      <td>4.64170</td>\n",
              "      <td>7.851050</td>\n",
              "      <td>8.203204</td>\n",
              "      <td>2.845792</td>\n",
              "      <td>5.921909</td>\n",
              "      <td>4.324646</td>\n",
              "      <td>0.541385</td>\n",
              "      <td>8.278554</td>\n",
              "      <td>5.905752</td>\n",
              "      <td>0.764765</td>\n",
              "      <td>7.364523</td>\n",
              "      <td>7.939415</td>\n",
              "      <td>1.993530</td>\n",
              "      <td>7.432116</td>\n",
              "      <td>2.300002</td>\n",
              "      <td>7.748588</td>\n",
              "      <td>4.185923</td>\n",
              "      <td>2.765963</td>\n",
              "      <td>1.862151</td>\n",
              "      <td>0.171058</td>\n",
              "      <td>4.354830</td>\n",
              "      <td>3.823662</td>\n",
              "      <td>2.621057</td>\n",
              "      <td>5.169343</td>\n",
              "      <td>0.375564</td>\n",
              "      <td>7.686960</td>\n",
              "      <td>2.520602</td>\n",
              "      <td>7.418545</td>\n",
              "      <td>0.198989</td>\n",
              "      <td>10.384752</td>\n",
              "      <td>4.964332</td>\n",
              "      <td>5.455353</td>\n",
              "      <td>5.019303</td>\n",
              "      <td>0.369891</td>\n",
              "      <td>0.369629</td>\n",
              "      <td>4.422915</td>\n",
              "      <td>5.968300</td>\n",
              "      <td>7.132446</td>\n",
              "      <td>2.801692</td>\n",
              "      <td>9.320939</td>\n",
              "      <td>4.561317</td>\n",
              "      <td>3.021636</td>\n",
              "      <td>1.476777</td>\n",
              "      <td>3.010492</td>\n",
              "    </tr>\n",
              "    <tr>\n",
              "      <th>min</th>\n",
              "      <td>0.000000</td>\n",
              "      <td>0.000000</td>\n",
              "      <td>0.408400</td>\n",
              "      <td>-15.043400</td>\n",
              "      <td>2.117100</td>\n",
              "      <td>2.347300</td>\n",
              "      <td>3.970500</td>\n",
              "      <td>13.434600</td>\n",
              "      <td>-6.01110</td>\n",
              "      <td>-10.664200</td>\n",
              "      <td>-10.089000</td>\n",
              "      <td>-5.322500</td>\n",
              "      <td>-24.243100</td>\n",
              "      <td>1.508500</td>\n",
              "      <td>9.816900</td>\n",
              "      <td>-35.211700</td>\n",
              "      <td>-9.939600</td>\n",
              "      <td>3.344900</td>\n",
              "      <td>-19.544300</td>\n",
              "      <td>-21.633300</td>\n",
              "      <td>-1.818300</td>\n",
              "      <td>-18.042200</td>\n",
              "      <td>7.586500</td>\n",
              "      <td>-19.272200</td>\n",
              "      <td>-1.018500</td>\n",
              "      <td>2.819000</td>\n",
              "      <td>-7.280600</td>\n",
              "      <td>13.729000</td>\n",
              "      <td>5.769700</td>\n",
              "      <td>-9.239800</td>\n",
              "      <td>-6.858600</td>\n",
              "      <td>-15.194000</td>\n",
              "      <td>5.359300</td>\n",
              "      <td>-21.123200</td>\n",
              "      <td>0.427400</td>\n",
              "      <td>-29.984000</td>\n",
              "      <td>3.320500</td>\n",
              "      <td>-41.168300</td>\n",
              "      <td>-8.196600</td>\n",
              "      <td>-19.551500</td>\n",
              "      <td>3.816700</td>\n",
              "      <td>1.851200</td>\n",
              "      <td>4.258800</td>\n",
              "      <td>-14.506000</td>\n",
              "      <td>-22.748700</td>\n",
              "      <td>-2.995300</td>\n",
              "      <td>-7.856100</td>\n",
              "      <td>-18.489700</td>\n",
              "      <td>-14.093300</td>\n",
              "      <td>-2.691700</td>\n",
              "      <td>-3.814500</td>\n",
              "      <td>6.299300</td>\n",
              "    </tr>\n",
              "    <tr>\n",
              "      <th>25%</th>\n",
              "      <td>44999.750000</td>\n",
              "      <td>0.000000</td>\n",
              "      <td>8.451675</td>\n",
              "      <td>-4.745600</td>\n",
              "      <td>8.720000</td>\n",
              "      <td>4.768500</td>\n",
              "      <td>6.618800</td>\n",
              "      <td>13.893900</td>\n",
              "      <td>5.06575</td>\n",
              "      <td>9.170200</td>\n",
              "      <td>11.552000</td>\n",
              "      <td>2.185350</td>\n",
              "      <td>-8.313225</td>\n",
              "      <td>11.456375</td>\n",
              "      <td>11.032400</td>\n",
              "      <td>-12.835875</td>\n",
              "      <td>5.303575</td>\n",
              "      <td>5.435000</td>\n",
              "      <td>6.756875</td>\n",
              "      <td>0.598475</td>\n",
              "      <td>3.815200</td>\n",
              "      <td>0.703000</td>\n",
              "      <td>13.216875</td>\n",
              "      <td>0.412475</td>\n",
              "      <td>9.664675</td>\n",
              "      <td>8.829700</td>\n",
              "      <td>-2.105300</td>\n",
              "      <td>14.098900</td>\n",
              "      <td>15.107300</td>\n",
              "      <td>2.817000</td>\n",
              "      <td>0.397300</td>\n",
              "      <td>-2.571400</td>\n",
              "      <td>6.544100</td>\n",
              "      <td>2.391950</td>\n",
              "      <td>8.646700</td>\n",
              "      <td>-8.757925</td>\n",
              "      <td>3.853700</td>\n",
              "      <td>-1.894525</td>\n",
              "      <td>3.340800</td>\n",
              "      <td>-7.092725</td>\n",
              "      <td>15.752275</td>\n",
              "      <td>2.698400</td>\n",
              "      <td>5.374200</td>\n",
              "      <td>-3.253575</td>\n",
              "      <td>-4.997500</td>\n",
              "      <td>15.062900</td>\n",
              "      <td>0.628600</td>\n",
              "      <td>5.661300</td>\n",
              "      <td>-0.062000</td>\n",
              "      <td>5.160325</td>\n",
              "      <td>0.890000</td>\n",
              "      <td>13.830400</td>\n",
              "    </tr>\n",
              "    <tr>\n",
              "      <th>50%</th>\n",
              "      <td>89999.500000</td>\n",
              "      <td>0.000000</td>\n",
              "      <td>10.526750</td>\n",
              "      <td>-1.611250</td>\n",
              "      <td>10.579600</td>\n",
              "      <td>5.385600</td>\n",
              "      <td>7.628500</td>\n",
              "      <td>14.025500</td>\n",
              "      <td>8.59920</td>\n",
              "      <td>15.198900</td>\n",
              "      <td>17.246850</td>\n",
              "      <td>4.275700</td>\n",
              "      <td>-4.184500</td>\n",
              "      <td>14.579150</td>\n",
              "      <td>11.435500</td>\n",
              "      <td>-6.615100</td>\n",
              "      <td>9.432200</td>\n",
              "      <td>6.027100</td>\n",
              "      <td>11.925300</td>\n",
              "      <td>6.298250</td>\n",
              "      <td>5.437750</td>\n",
              "      <td>6.071300</td>\n",
              "      <td>14.846150</td>\n",
              "      <td>6.014100</td>\n",
              "      <td>12.670700</td>\n",
              "      <td>10.981400</td>\n",
              "      <td>-0.772000</td>\n",
              "      <td>14.226800</td>\n",
              "      <td>18.276650</td>\n",
              "      <td>5.397400</td>\n",
              "      <td>2.248800</td>\n",
              "      <td>1.194600</td>\n",
              "      <td>6.806800</td>\n",
              "      <td>8.072150</td>\n",
              "      <td>10.395800</td>\n",
              "      <td>-3.170950</td>\n",
              "      <td>3.996000</td>\n",
              "      <td>5.288550</td>\n",
              "      <td>7.006550</td>\n",
              "      <td>-2.632150</td>\n",
              "      <td>19.272750</td>\n",
              "      <td>2.959900</td>\n",
              "      <td>5.634500</td>\n",
              "      <td>0.008500</td>\n",
              "      <td>-0.560300</td>\n",
              "      <td>20.203300</td>\n",
              "      <td>2.513800</td>\n",
              "      <td>12.520300</td>\n",
              "      <td>3.204650</td>\n",
              "      <td>7.350950</td>\n",
              "      <td>1.899700</td>\n",
              "      <td>15.934600</td>\n",
              "    </tr>\n",
              "    <tr>\n",
              "      <th>75%</th>\n",
              "      <td>134999.250000</td>\n",
              "      <td>0.000000</td>\n",
              "      <td>12.756200</td>\n",
              "      <td>1.360225</td>\n",
              "      <td>12.514100</td>\n",
              "      <td>6.003200</td>\n",
              "      <td>8.583800</td>\n",
              "      <td>14.164400</td>\n",
              "      <td>12.27330</td>\n",
              "      <td>21.010500</td>\n",
              "      <td>23.100050</td>\n",
              "      <td>6.290225</td>\n",
              "      <td>-0.090100</td>\n",
              "      <td>18.107200</td>\n",
              "      <td>11.845000</td>\n",
              "      <td>-0.885250</td>\n",
              "      <td>13.083800</td>\n",
              "      <td>6.542325</td>\n",
              "      <td>17.039600</td>\n",
              "      <td>11.817825</td>\n",
              "      <td>6.864700</td>\n",
              "      <td>11.444800</td>\n",
              "      <td>16.343000</td>\n",
              "      <td>11.159500</td>\n",
              "      <td>15.837300</td>\n",
              "      <td>13.086500</td>\n",
              "      <td>0.526925</td>\n",
              "      <td>14.361800</td>\n",
              "      <td>21.857650</td>\n",
              "      <td>8.109525</td>\n",
              "      <td>4.119400</td>\n",
              "      <td>5.090450</td>\n",
              "      <td>7.070900</td>\n",
              "      <td>13.236650</td>\n",
              "      <td>12.116300</td>\n",
              "      <td>2.043350</td>\n",
              "      <td>4.131625</td>\n",
              "      <td>12.701300</td>\n",
              "      <td>10.776700</td>\n",
              "      <td>1.321300</td>\n",
              "      <td>23.021875</td>\n",
              "      <td>3.241425</td>\n",
              "      <td>5.905600</td>\n",
              "      <td>3.098325</td>\n",
              "      <td>3.632525</td>\n",
              "      <td>25.639125</td>\n",
              "      <td>4.396725</td>\n",
              "      <td>19.461725</td>\n",
              "      <td>6.409900</td>\n",
              "      <td>9.511125</td>\n",
              "      <td>2.947225</td>\n",
              "      <td>18.061425</td>\n",
              "    </tr>\n",
              "    <tr>\n",
              "      <th>max</th>\n",
              "      <td>179999.000000</td>\n",
              "      <td>1.000000</td>\n",
              "      <td>20.315000</td>\n",
              "      <td>10.376800</td>\n",
              "      <td>19.353000</td>\n",
              "      <td>8.447700</td>\n",
              "      <td>11.150600</td>\n",
              "      <td>14.654500</td>\n",
              "      <td>22.33150</td>\n",
              "      <td>41.748000</td>\n",
              "      <td>49.044300</td>\n",
              "      <td>14.594500</td>\n",
              "      <td>15.675100</td>\n",
              "      <td>29.546600</td>\n",
              "      <td>13.287800</td>\n",
              "      <td>18.105600</td>\n",
              "      <td>34.196100</td>\n",
              "      <td>8.231500</td>\n",
              "      <td>39.396800</td>\n",
              "      <td>34.435200</td>\n",
              "      <td>11.350700</td>\n",
              "      <td>30.476900</td>\n",
              "      <td>23.132400</td>\n",
              "      <td>34.563700</td>\n",
              "      <td>26.997600</td>\n",
              "      <td>18.975000</td>\n",
              "      <td>4.993900</td>\n",
              "      <td>14.743000</td>\n",
              "      <td>32.059100</td>\n",
              "      <td>19.519300</td>\n",
              "      <td>11.950400</td>\n",
              "      <td>18.471400</td>\n",
              "      <td>8.309100</td>\n",
              "      <td>36.097100</td>\n",
              "      <td>20.437300</td>\n",
              "      <td>21.236400</td>\n",
              "      <td>4.752800</td>\n",
              "      <td>44.462000</td>\n",
              "      <td>23.242800</td>\n",
              "      <td>12.119300</td>\n",
              "      <td>38.332200</td>\n",
              "      <td>4.220400</td>\n",
              "      <td>7.089000</td>\n",
              "      <td>16.731900</td>\n",
              "      <td>18.855400</td>\n",
              "      <td>43.546800</td>\n",
              "      <td>13.448700</td>\n",
              "      <td>44.363400</td>\n",
              "      <td>18.440900</td>\n",
              "      <td>16.716500</td>\n",
              "      <td>8.402400</td>\n",
              "      <td>26.079100</td>\n",
              "    </tr>\n",
              "  </tbody>\n",
              "</table>\n",
              "</div>"
            ],
            "text/plain": [
              "          Unnamed: 0         target  ...         var_48         var_49\n",
              "count  180000.000000  180000.000000  ...  180000.000000  180000.000000\n",
              "mean    89999.500000       0.100222  ...       1.927078      15.870166\n",
              "std     51961.668564       0.300297  ...       1.476777       3.010492\n",
              "min         0.000000       0.000000  ...      -3.814500       6.299300\n",
              "25%     44999.750000       0.000000  ...       0.890000      13.830400\n",
              "50%     89999.500000       0.000000  ...       1.899700      15.934600\n",
              "75%    134999.250000       0.000000  ...       2.947225      18.061425\n",
              "max    179999.000000       1.000000  ...       8.402400      26.079100\n",
              "\n",
              "[8 rows x 52 columns]"
            ]
          },
          "metadata": {},
          "execution_count": 5
        }
      ]
    },
    {
      "cell_type": "markdown",
      "metadata": {
        "id": "CK_SnPNpeFzN"
      },
      "source": [
        "With `target` having such a small standard deviation as well as a min and max of 0 and 1, this is likely our output variable. Also, besides `Unnamed: 0` which we know is our index, none of our columns seem to have any othr signs of annomalies to keep in mind.\n"
      ]
    },
    {
      "cell_type": "markdown",
      "metadata": {
        "id": "SMeH5zeoUBLH"
      },
      "source": [
        "`.info()` showed 180,000 non-null values for every column. We'll double check."
      ]
    },
    {
      "cell_type": "code",
      "metadata": {
        "colab": {
          "base_uri": "https://localhost:8080/"
        },
        "id": "DaocbqvzULYJ",
        "outputId": "57f2a7e5-5f2b-4fbe-d2d5-3766486cb448"
      },
      "source": [
        "# Check for null values\n",
        "trans_data.isnull().sum()"
      ],
      "execution_count": 6,
      "outputs": [
        {
          "output_type": "execute_result",
          "data": {
            "text/plain": [
              "Unnamed: 0    0\n",
              "ID_code       0\n",
              "target        0\n",
              "var_0         0\n",
              "var_1         0\n",
              "var_2         0\n",
              "var_3         0\n",
              "var_4         0\n",
              "var_5         0\n",
              "var_6         0\n",
              "var_7         0\n",
              "var_8         0\n",
              "var_9         0\n",
              "var_10        0\n",
              "var_11        0\n",
              "var_12        0\n",
              "var_13        0\n",
              "var_14        0\n",
              "var_15        0\n",
              "var_16        0\n",
              "var_17        0\n",
              "var_18        0\n",
              "var_19        0\n",
              "var_20        0\n",
              "var_21        0\n",
              "var_22        0\n",
              "var_23        0\n",
              "var_24        0\n",
              "var_25        0\n",
              "var_26        0\n",
              "var_27        0\n",
              "var_28        0\n",
              "var_29        0\n",
              "var_30        0\n",
              "var_31        0\n",
              "var_32        0\n",
              "var_33        0\n",
              "var_34        0\n",
              "var_35        0\n",
              "var_36        0\n",
              "var_37        0\n",
              "var_38        0\n",
              "var_39        0\n",
              "var_40        0\n",
              "var_41        0\n",
              "var_42        0\n",
              "var_43        0\n",
              "var_44        0\n",
              "var_45        0\n",
              "var_46        0\n",
              "var_47        0\n",
              "var_48        0\n",
              "var_49        0\n",
              "dtype: int64"
            ]
          },
          "metadata": {},
          "execution_count": 6
        }
      ]
    },
    {
      "cell_type": "markdown",
      "metadata": {
        "id": "ct4cVLQoUTkx"
      },
      "source": [
        "We do not have any null values in our dataset (this is rare). We can now move on to our Exploratory Data Analysis!"
      ]
    },
    {
      "cell_type": "markdown",
      "metadata": {
        "id": "dWfDGSR1UkvY"
      },
      "source": [
        "## EDA *(Exploratory Data Analysis)*"
      ]
    },
    {
      "cell_type": "markdown",
      "metadata": {
        "id": "Vc1md7ecUyak"
      },
      "source": [
        "First, we need to explore out data a bit more in order to determine what model we want to fit our data into. In this case, we'll attempt to use the Gaussian Naive Bayes model, so we first need to make sure that our data follows the assumptions made by Gaussian Naive Bayes about our dataset.\n"
      ]
    },
    {
      "cell_type": "markdown",
      "metadata": {
        "id": "enftQSgZgUZy"
      },
      "source": [
        "**Assumptions**\n",
        "\n",
        "1.   Our Predictors are continuous\n",
        "2.   Our Predictors are normally distributed\n",
        "\n"
      ]
    },
    {
      "cell_type": "markdown",
      "metadata": {
        "id": "k1Rs2ML8gvzp"
      },
      "source": [
        "We know that our predictors are continuous because the only binary data type we have is the `target` column, which serves as our output. The rest (`var_0` - `var_49`) are our continuous predictors."
      ]
    },
    {
      "cell_type": "markdown",
      "metadata": {
        "id": "QKiFXuiXhLKE"
      },
      "source": [
        "Now we need to make sure that our dataset follows the second assumption that our predictors are normally distributed."
      ]
    },
    {
      "cell_type": "code",
      "metadata": {
        "colab": {
          "base_uri": "https://localhost:8080/",
          "height": 1000
        },
        "id": "6_DvMrtFxGRh",
        "outputId": "c3f9e5a6-cbd8-47bf-bd4a-87569cd27668"
      },
      "source": [
        "df = pd.DataFrame(trans_data)\n",
        "\n",
        "# Create list of header names\n",
        "cols = ['var_'+str(i) for i in range(50)]\n",
        "\n",
        "# Split list into chunks to graph 5 plots per row\n",
        "col_chunks = [cols[i:i + 5] for i in range(0, len(cols), 5)] \n",
        "\n",
        "for i in range(10):\n",
        "  # Set 5 subplots\n",
        "  fig, (ax1, ax2, ax3, ax4, ax5) = plt.subplots(nrows=1, ncols=5, figsize=(30, 4))\n",
        "\n",
        "  # Plot each header on its own subplot in chunks of 5\n",
        "  df[col_chunks[i][0]].plot(kind = 'hist', ax = ax1, alpha = 0.4, bins = 20, color = '#48aad4').set_title(col_chunks[i][0])\n",
        "  df[col_chunks[i][1]].plot(kind = 'hist', ax = ax2, alpha = 0.4, bins = 20, color = '#48aad4').set_title(col_chunks[i][1])\n",
        "  df[col_chunks[i][2]].plot(kind = 'hist', ax = ax3, alpha = 0.4, bins = 20, color = '#48aad4').set_title(col_chunks[i][2])\n",
        "  df[col_chunks[i][3]].plot(kind = 'hist', ax = ax4, alpha = 0.4, bins = 20, color = '#48aad4').set_title(col_chunks[i][3])\n",
        "  df[col_chunks[i][4]].plot(kind = 'hist', ax = ax5, alpha = 0.4, bins = 20, color = '#48aad4').set_title(col_chunks[i][4])\n",
        "\n"
      ],
      "execution_count": 7,
      "outputs": [
        {
          "output_type": "display_data",
          "data": {
            "image/png": "[encoded data removed]",
            "text/plain": [
              "<Figure size 2160x288 with 5 Axes>"
            ]
          },
          "metadata": {
            "needs_background": "light"
          }
        },
        {
          "output_type": "display_data",
          "data": {
            "image/png": "[encoded data removed]",
            "text/plain": [
              "<Figure size 2160x288 with 5 Axes>"
            ]
          },
          "metadata": {
            "needs_background": "light"
          }
        },
        {
          "output_type": "display_data",
          "data": {
            "image/png": "[encoded data removed]",
            "text/plain": [
              "<Figure size 2160x288 with 5 Axes>"
            ]
          },
          "metadata": {
            "needs_background": "light"
          }
        },
        {
          "output_type": "display_data",
          "data": {
            "image/png": "[encoded data removed]",
            "text/plain": [
              "<Figure size 2160x288 with 5 Axes>"
            ]
          },
          "metadata": {
            "needs_background": "light"
          }
        },
        {
          "output_type": "display_data",
          "data": {
            "image/png": "[encoded data removed]",
            "text/plain": [
              "<Figure size 2160x288 with 5 Axes>"
            ]
          },
          "metadata": {
            "needs_background": "light"
          }
        },
        {
          "output_type": "display_data",
          "data": {
            "image/png": "[encoded data removed]",
            "text/plain": [
              "<Figure size 2160x288 with 5 Axes>"
            ]
          },
          "metadata": {
            "needs_background": "light"
          }
        },
        {
          "output_type": "display_data",
          "data": {
            "image/png": "[encoded data removed]",
            "text/plain": [
              "<Figure size 2160x288 with 5 Axes>"
            ]
          },
          "metadata": {
            "needs_background": "light"
          }
        },
        {
          "output_type": "display_data",
          "data": {
            "image/png": "[encoded data removed]",
            "text/plain": [
              "<Figure size 2160x288 with 5 Axes>"
            ]
          },
          "metadata": {
            "needs_background": "light"
          }
        },
        {
          "output_type": "display_data",
          "data": {
            "image/png": "[encoded data removed]",
            "text/plain": [
              "<Figure size 2160x288 with 5 Axes>"
            ]
          },
          "metadata": {
            "needs_background": "light"
          }
        },
        {
          "output_type": "display_data",
          "data": {
            "image/png": "[encoded data removed]",
            "text/plain": [
              "<Figure size 2160x288 with 5 Axes>"
            ]
          },
          "metadata": {
            "needs_background": "light"
          }
        }
      ]
    },
    {
      "cell_type": "markdown",
      "metadata": {
        "id": "015oJ2XZN0eY"
      },
      "source": [
        "All of our predictors seem to follow normal distributions.\n"
      ]
    },
    {
      "cell_type": "markdown",
      "metadata": {
        "id": "yw0d1aqKiIDu"
      },
      "source": [
        "One more assumption Gaussian Naive Bayes makes is that our predictors aren't coorelated. We'll want to create a heat map and use the `.corr` method on our dataframe to see if there are any heavily coorelated predictors. The may want to drop these."
      ]
    },
    {
      "cell_type": "code",
      "metadata": {
        "colab": {
          "base_uri": "https://localhost:8080/",
          "height": 751
        },
        "id": "HyKktE6bx2va",
        "outputId": "ceccdec8-f077-46fd-abdf-c8e9ec8e407d"
      },
      "source": [
        "# Create copy to clean, shape, and fit our dataframe\n",
        "trans_data_copy = pd.DataFrame(trans_data.copy())\n",
        "\n",
        "# Drop the 'ID_code' column because it serves as a second index to 'Unnamed: 0' column\n",
        "trans_data_copy.drop(columns = ['ID_code'], inplace = True)\n",
        "\n",
        "# Map out correlations between predictors\n",
        "cols_corr = trans_data_copy.corr()\n",
        "\n",
        "plt.figure(figsize=(16, 12))\n",
        "sns.heatmap(cols_corr, cmap=\"Blues\")\n",
        "plt.title('Coorelation between Predictors', pad= 20)\n",
        "plt.xlabel('Variables')\n",
        "plt.ylabel('Variables');"
      ],
      "execution_count": 8,
      "outputs": [
        {
          "output_type": "display_data",
          "data": {
            "image/png": "[encoded data removed]",
            "text/plain": [
              "<Figure size 1152x864 with 2 Axes>"
            ]
          },
          "metadata": {
            "needs_background": "light"
          }
        }
      ]
    },
    {
      "cell_type": "markdown",
      "metadata": {
        "id": "e3x-9u2C15Pl"
      },
      "source": [
        "There doesnt seem to be any noteworthy correlations between our dataset."
      ]
    },
    {
      "cell_type": "markdown",
      "metadata": {
        "id": "VTwIsu-Yi6YE"
      },
      "source": [
        "One last analysis we need to make on our dataset is looking at our target variable and verifying that the values really are binary."
      ]
    },
    {
      "cell_type": "code",
      "metadata": {
        "colab": {
          "base_uri": "https://localhost:8080/"
        },
        "id": "MvuomTi2xiNT",
        "outputId": "f8dbbe2f-cddb-4aa5-ee8f-5fe0e505c8b1"
      },
      "source": [
        "set(trans_data['target'])"
      ],
      "execution_count": 9,
      "outputs": [
        {
          "output_type": "execute_result",
          "data": {
            "text/plain": [
              "{0, 1}"
            ]
          },
          "metadata": {},
          "execution_count": 9
        }
      ]
    },
    {
      "cell_type": "markdown",
      "metadata": {
        "id": "J5HTL-TF2EAg"
      },
      "source": [
        "First, we'll divide our dataset into two seperate dataframes. One will house our data with successful transactions, and the other housing the data with unsuccessful transactions. This will first give us an idea of how balanced out dataset is. Depending on our findings, we may have to restructure our dataset."
      ]
    },
    {
      "cell_type": "code",
      "metadata": {
        "colab": {
          "base_uri": "https://localhost:8080/"
        },
        "id": "DMKID14H5gLS",
        "outputId": "6ec85b61-32c4-42ff-f945-5526e4886299"
      },
      "source": [
        "# Create dataframe of only successful transactions (denoted by a value of 1 in target column)\n",
        "good_trans = pd.DataFrame(trans_data_copy[trans_data_copy['target'] == 1])\n",
        "\n",
        "# Check our target column to ensure we only have successful transactions\n",
        "print(set(good_trans['target']))\n",
        "\n",
        "# Get size of our good transational data\n",
        "print(f\"Size: {good_trans.shape}\")\n"
      ],
      "execution_count": 10,
      "outputs": [
        {
          "output_type": "stream",
          "name": "stdout",
          "text": [
            "{1}\n",
            "Size: (18040, 52)\n"
          ]
        }
      ]
    },
    {
      "cell_type": "code",
      "metadata": {
        "colab": {
          "base_uri": "https://localhost:8080/"
        },
        "id": "jlR3Zvx81B28",
        "outputId": "75d6f209-d7e4-409d-ed64-eb58473eaa66"
      },
      "source": [
        "# Create dataframe of only unsuccessful transactions (denoted by a value of 0 in target column)\n",
        "bad_trans = pd.DataFrame(trans_data_copy[trans_data_copy['target'] == 0])\n",
        "\n",
        "# Check our target column to ensure we only have successful transactions\n",
        "print(set(bad_trans['target']))\n",
        "\n",
        "# Get size of our good transational data\n",
        "print(f\"Size: {bad_trans.shape}\")"
      ],
      "execution_count": 11,
      "outputs": [
        {
          "output_type": "stream",
          "name": "stdout",
          "text": [
            "{0}\n",
            "Size: (161960, 52)\n"
          ]
        }
      ]
    },
    {
      "cell_type": "markdown",
      "metadata": {
        "id": "z3RRaV2MrbS9"
      },
      "source": [
        "Heres the balance of our dataset:\n",
        "\n",
        "|     | 0 | 1     |\n",
        "| :---        |    :----:   |          ---: |\n",
        "| Count     | 161,960   | 18,040 |"
      ]
    },
    {
      "cell_type": "code",
      "metadata": {
        "colab": {
          "base_uri": "https://localhost:8080/",
          "height": 329
        },
        "id": "c41c2BhzKxHm",
        "outputId": "572f22c9-5643-425e-f9f2-4b8ed75d69c3"
      },
      "source": [
        "# Visualize dataset balance using 'Target' column from copy dataset\n",
        "trans_data_copy['target'].value_counts().sort_index().plot(kind='bar', rot=0, color = ['#48aad4', '#d69f4d'], alpha = 0.4)\n",
        "plt.xlabel('Targets', labelpad= 20)\n",
        "plt.ylabel('Occurences', labelpad= 20)\n",
        "plt.title('Target Balance', pad= 20);"
      ],
      "execution_count": 12,
      "outputs": [
        {
          "output_type": "display_data",
          "data": {
            "image/png": "[encoded data removed]",
            "text/plain": [
              "<Figure size 432x288 with 1 Axes>"
            ]
          },
          "metadata": {
            "needs_background": "light"
          }
        }
      ]
    },
    {
      "cell_type": "markdown",
      "metadata": {
        "id": "Gm0HSeMIsmzX"
      },
      "source": [
        "Our data is heavily skewed towards our unsuccessful transactions. This we'll need to remember when assessing the performance of our model."
      ]
    },
    {
      "cell_type": "markdown",
      "metadata": {
        "id": "bbOC3YG21Wq5"
      },
      "source": [
        "Quickly, we'll run a operation to see if all of our data made it into one of the two dataframes we created. The sum of our rows shoul be equal to 180,000 (amount of rows in our entire dataset)"
      ]
    },
    {
      "cell_type": "code",
      "metadata": {
        "colab": {
          "base_uri": "https://localhost:8080/"
        },
        "id": "-CojsRUI1pKn",
        "outputId": "dbf9e401-1120-44fc-d3b3-24b7c788005d"
      },
      "source": [
        "# .shape reutrns the rows and columns in a tuple, first item being the qty of rows\n",
        "good_trans.shape[0] + bad_trans.shape[0]"
      ],
      "execution_count": 13,
      "outputs": [
        {
          "output_type": "execute_result",
          "data": {
            "text/plain": [
              "180000"
            ]
          },
          "metadata": {},
          "execution_count": 13
        }
      ]
    },
    {
      "cell_type": "markdown",
      "metadata": {
        "id": "1LbB-xxB2XPV"
      },
      "source": [
        "All of our data made it. We'll be using these dataframes later on. Now onto processing our data."
      ]
    },
    {
      "cell_type": "markdown",
      "metadata": {
        "id": "9JdNIVOOD7pb"
      },
      "source": [
        "## Data Processing"
      ]
    },
    {
      "cell_type": "markdown",
      "metadata": {
        "id": "FHC4t-mqHh6c"
      },
      "source": [
        "Break data up into predictors and output(what we're trying to predict)"
      ]
    },
    {
      "cell_type": "code",
      "metadata": {
        "id": "2uHvhjFmD-Y3"
      },
      "source": [
        "inputs = pd.DataFrame(trans_data_copy[[i for i in trans_data_copy.columns if 'var' in i]])\n",
        "output = pd.DataFrame(trans_data_copy['target'])"
      ],
      "execution_count": 14,
      "outputs": []
    },
    {
      "cell_type": "markdown",
      "metadata": {
        "id": "mQrluC14Hq6B"
      },
      "source": [
        "Lets check our new dataframes using the same pandas dataframe methods we used earlier."
      ]
    },
    {
      "cell_type": "code",
      "metadata": {
        "colab": {
          "base_uri": "https://localhost:8080/",
          "height": 226
        },
        "id": "2mnbO5DrHtw1",
        "outputId": "0c0a81dd-32a7-44ad-d533-64df8af7d096"
      },
      "source": [
        "inputs.head()"
      ],
      "execution_count": 15,
      "outputs": [
        {
          "output_type": "execute_result",
          "data": {
            "text/html": [
              "<div>\n",
              "<style scoped>\n",
              "    .dataframe tbody tr th:only-of-type {\n",
              "        vertical-align: middle;\n",
              "    }\n",
              "\n",
              "    .dataframe tbody tr th {\n",
              "        vertical-align: top;\n",
              "    }\n",
              "\n",
              "    .dataframe thead th {\n",
              "        text-align: right;\n",
              "    }\n",
              "</style>\n",
              "<table border=\"1\" class=\"dataframe\">\n",
              "  <thead>\n",
              "    <tr style=\"text-align: right;\">\n",
              "      <th></th>\n",
              "      <th>var_0</th>\n",
              "      <th>var_1</th>\n",
              "      <th>var_2</th>\n",
              "      <th>var_3</th>\n",
              "      <th>var_4</th>\n",
              "      <th>var_5</th>\n",
              "      <th>var_6</th>\n",
              "      <th>var_7</th>\n",
              "      <th>var_8</th>\n",
              "      <th>var_9</th>\n",
              "      <th>var_10</th>\n",
              "      <th>var_11</th>\n",
              "      <th>var_12</th>\n",
              "      <th>var_13</th>\n",
              "      <th>var_14</th>\n",
              "      <th>var_15</th>\n",
              "      <th>var_16</th>\n",
              "      <th>var_17</th>\n",
              "      <th>var_18</th>\n",
              "      <th>var_19</th>\n",
              "      <th>var_20</th>\n",
              "      <th>var_21</th>\n",
              "      <th>var_22</th>\n",
              "      <th>var_23</th>\n",
              "      <th>var_24</th>\n",
              "      <th>var_25</th>\n",
              "      <th>var_26</th>\n",
              "      <th>var_27</th>\n",
              "      <th>var_28</th>\n",
              "      <th>var_29</th>\n",
              "      <th>var_30</th>\n",
              "      <th>var_31</th>\n",
              "      <th>var_32</th>\n",
              "      <th>var_33</th>\n",
              "      <th>var_34</th>\n",
              "      <th>var_35</th>\n",
              "      <th>var_36</th>\n",
              "      <th>var_37</th>\n",
              "      <th>var_38</th>\n",
              "      <th>var_39</th>\n",
              "      <th>var_40</th>\n",
              "      <th>var_41</th>\n",
              "      <th>var_42</th>\n",
              "      <th>var_43</th>\n",
              "      <th>var_44</th>\n",
              "      <th>var_45</th>\n",
              "      <th>var_46</th>\n",
              "      <th>var_47</th>\n",
              "      <th>var_48</th>\n",
              "      <th>var_49</th>\n",
              "    </tr>\n",
              "  </thead>\n",
              "  <tbody>\n",
              "    <tr>\n",
              "      <th>0</th>\n",
              "      <td>8.9255</td>\n",
              "      <td>-6.7863</td>\n",
              "      <td>11.9081</td>\n",
              "      <td>5.1187</td>\n",
              "      <td>5.7470</td>\n",
              "      <td>14.0137</td>\n",
              "      <td>0.5745</td>\n",
              "      <td>4.2840</td>\n",
              "      <td>16.2191</td>\n",
              "      <td>2.5791</td>\n",
              "      <td>-5.1488</td>\n",
              "      <td>16.8911</td>\n",
              "      <td>11.1920</td>\n",
              "      <td>-5.2387</td>\n",
              "      <td>11.6418</td>\n",
              "      <td>5.1736</td>\n",
              "      <td>22.4321</td>\n",
              "      <td>-2.3440</td>\n",
              "      <td>6.5199</td>\n",
              "      <td>13.6468</td>\n",
              "      <td>13.8372</td>\n",
              "      <td>9.3225</td>\n",
              "      <td>11.0924</td>\n",
              "      <td>14.8421</td>\n",
              "      <td>-3.4132</td>\n",
              "      <td>14.1104</td>\n",
              "      <td>24.3627</td>\n",
              "      <td>2.0323</td>\n",
              "      <td>1.5093</td>\n",
              "      <td>0.8897</td>\n",
              "      <td>6.5674</td>\n",
              "      <td>15.6599</td>\n",
              "      <td>11.5659</td>\n",
              "      <td>-16.4727</td>\n",
              "      <td>4.0288</td>\n",
              "      <td>17.9244</td>\n",
              "      <td>10.4838</td>\n",
              "      <td>6.6760</td>\n",
              "      <td>12.6644</td>\n",
              "      <td>2.7004</td>\n",
              "      <td>5.4879</td>\n",
              "      <td>-4.7645</td>\n",
              "      <td>3.1531</td>\n",
              "      <td>18.5618</td>\n",
              "      <td>1.7202</td>\n",
              "      <td>25.8398</td>\n",
              "      <td>4.4354</td>\n",
              "      <td>3.9642</td>\n",
              "      <td>3.1364</td>\n",
              "      <td>12.7803</td>\n",
              "    </tr>\n",
              "    <tr>\n",
              "      <th>1</th>\n",
              "      <td>11.5006</td>\n",
              "      <td>-4.1473</td>\n",
              "      <td>13.8588</td>\n",
              "      <td>5.6208</td>\n",
              "      <td>8.0851</td>\n",
              "      <td>14.0239</td>\n",
              "      <td>8.4135</td>\n",
              "      <td>7.8000</td>\n",
              "      <td>2.7407</td>\n",
              "      <td>8.5524</td>\n",
              "      <td>-11.7684</td>\n",
              "      <td>19.3710</td>\n",
              "      <td>11.3702</td>\n",
              "      <td>-11.1147</td>\n",
              "      <td>1.2444</td>\n",
              "      <td>6.6885</td>\n",
              "      <td>7.9344</td>\n",
              "      <td>3.2709</td>\n",
              "      <td>5.5075</td>\n",
              "      <td>2.5462</td>\n",
              "      <td>18.1782</td>\n",
              "      <td>-13.5901</td>\n",
              "      <td>8.0905</td>\n",
              "      <td>11.7569</td>\n",
              "      <td>0.6939</td>\n",
              "      <td>13.9550</td>\n",
              "      <td>13.0858</td>\n",
              "      <td>6.6203</td>\n",
              "      <td>4.1569</td>\n",
              "      <td>8.2736</td>\n",
              "      <td>7.0513</td>\n",
              "      <td>16.1622</td>\n",
              "      <td>8.9231</td>\n",
              "      <td>11.7700</td>\n",
              "      <td>4.2578</td>\n",
              "      <td>-4.4223</td>\n",
              "      <td>-0.5687</td>\n",
              "      <td>-5.0121</td>\n",
              "      <td>15.1345</td>\n",
              "      <td>3.2003</td>\n",
              "      <td>5.7999</td>\n",
              "      <td>5.5378</td>\n",
              "      <td>5.5134</td>\n",
              "      <td>30.2645</td>\n",
              "      <td>11.0752</td>\n",
              "      <td>22.5441</td>\n",
              "      <td>7.6421</td>\n",
              "      <td>7.7214</td>\n",
              "      <td>2.5837</td>\n",
              "      <td>18.3560</td>\n",
              "    </tr>\n",
              "    <tr>\n",
              "      <th>2</th>\n",
              "      <td>8.6093</td>\n",
              "      <td>-2.7457</td>\n",
              "      <td>12.0805</td>\n",
              "      <td>6.9427</td>\n",
              "      <td>5.9525</td>\n",
              "      <td>14.1929</td>\n",
              "      <td>7.3124</td>\n",
              "      <td>4.7011</td>\n",
              "      <td>18.1377</td>\n",
              "      <td>1.2145</td>\n",
              "      <td>-7.9940</td>\n",
              "      <td>19.0422</td>\n",
              "      <td>11.0449</td>\n",
              "      <td>-13.5174</td>\n",
              "      <td>4.1006</td>\n",
              "      <td>6.4059</td>\n",
              "      <td>9.8565</td>\n",
              "      <td>4.5048</td>\n",
              "      <td>6.3191</td>\n",
              "      <td>7.4729</td>\n",
              "      <td>15.7811</td>\n",
              "      <td>-4.4577</td>\n",
              "      <td>14.1613</td>\n",
              "      <td>14.2621</td>\n",
              "      <td>-0.0269</td>\n",
              "      <td>14.1963</td>\n",
              "      <td>20.3882</td>\n",
              "      <td>3.2304</td>\n",
              "      <td>2.9044</td>\n",
              "      <td>2.7768</td>\n",
              "      <td>6.6231</td>\n",
              "      <td>8.6674</td>\n",
              "      <td>11.4934</td>\n",
              "      <td>1.7624</td>\n",
              "      <td>4.0714</td>\n",
              "      <td>-1.2681</td>\n",
              "      <td>-5.1747</td>\n",
              "      <td>-1.0410</td>\n",
              "      <td>20.5092</td>\n",
              "      <td>3.2790</td>\n",
              "      <td>5.7690</td>\n",
              "      <td>-7.0927</td>\n",
              "      <td>-5.8234</td>\n",
              "      <td>25.6820</td>\n",
              "      <td>2.4013</td>\n",
              "      <td>23.0866</td>\n",
              "      <td>2.9057</td>\n",
              "      <td>9.7905</td>\n",
              "      <td>1.6704</td>\n",
              "      <td>14.7222</td>\n",
              "    </tr>\n",
              "    <tr>\n",
              "      <th>3</th>\n",
              "      <td>11.0604</td>\n",
              "      <td>-2.1518</td>\n",
              "      <td>8.9522</td>\n",
              "      <td>5.8428</td>\n",
              "      <td>8.2450</td>\n",
              "      <td>13.8463</td>\n",
              "      <td>11.9704</td>\n",
              "      <td>15.9426</td>\n",
              "      <td>12.5579</td>\n",
              "      <td>6.8202</td>\n",
              "      <td>0.8135</td>\n",
              "      <td>6.1796</td>\n",
              "      <td>10.6093</td>\n",
              "      <td>-3.8294</td>\n",
              "      <td>8.0485</td>\n",
              "      <td>5.2091</td>\n",
              "      <td>23.6143</td>\n",
              "      <td>11.6875</td>\n",
              "      <td>4.0806</td>\n",
              "      <td>0.7839</td>\n",
              "      <td>10.5404</td>\n",
              "      <td>-2.3174</td>\n",
              "      <td>14.4027</td>\n",
              "      <td>7.2887</td>\n",
              "      <td>1.9480</td>\n",
              "      <td>14.3256</td>\n",
              "      <td>14.4135</td>\n",
              "      <td>4.2827</td>\n",
              "      <td>-2.5459</td>\n",
              "      <td>3.9618</td>\n",
              "      <td>7.1954</td>\n",
              "      <td>8.9821</td>\n",
              "      <td>10.4994</td>\n",
              "      <td>4.1622</td>\n",
              "      <td>3.7613</td>\n",
              "      <td>2.3701</td>\n",
              "      <td>17.0336</td>\n",
              "      <td>-11.0882</td>\n",
              "      <td>17.2502</td>\n",
              "      <td>2.5881</td>\n",
              "      <td>5.3430</td>\n",
              "      <td>-7.1541</td>\n",
              "      <td>11.7134</td>\n",
              "      <td>14.7483</td>\n",
              "      <td>5.6961</td>\n",
              "      <td>-0.4639</td>\n",
              "      <td>4.4666</td>\n",
              "      <td>4.7433</td>\n",
              "      <td>0.7178</td>\n",
              "      <td>17.9697</td>\n",
              "    </tr>\n",
              "    <tr>\n",
              "      <th>4</th>\n",
              "      <td>9.8369</td>\n",
              "      <td>-1.4834</td>\n",
              "      <td>12.8746</td>\n",
              "      <td>5.9405</td>\n",
              "      <td>7.6784</td>\n",
              "      <td>13.8481</td>\n",
              "      <td>7.8895</td>\n",
              "      <td>6.5263</td>\n",
              "      <td>18.9608</td>\n",
              "      <td>10.1102</td>\n",
              "      <td>3.1736</td>\n",
              "      <td>19.3239</td>\n",
              "      <td>12.4057</td>\n",
              "      <td>-5.5963</td>\n",
              "      <td>6.9087</td>\n",
              "      <td>5.7555</td>\n",
              "      <td>1.6184</td>\n",
              "      <td>1.0273</td>\n",
              "      <td>7.1734</td>\n",
              "      <td>2.9598</td>\n",
              "      <td>13.3317</td>\n",
              "      <td>7.0799</td>\n",
              "      <td>9.3627</td>\n",
              "      <td>14.0553</td>\n",
              "      <td>0.6715</td>\n",
              "      <td>14.0837</td>\n",
              "      <td>28.2749</td>\n",
              "      <td>-0.1937</td>\n",
              "      <td>-3.6135</td>\n",
              "      <td>5.2964</td>\n",
              "      <td>6.6173</td>\n",
              "      <td>13.9547</td>\n",
              "      <td>11.5670</td>\n",
              "      <td>-12.7047</td>\n",
              "      <td>3.7574</td>\n",
              "      <td>9.9110</td>\n",
              "      <td>4.7022</td>\n",
              "      <td>6.5769</td>\n",
              "      <td>21.2607</td>\n",
              "      <td>3.2304</td>\n",
              "      <td>5.5518</td>\n",
              "      <td>1.4493</td>\n",
              "      <td>2.3705</td>\n",
              "      <td>18.4685</td>\n",
              "      <td>5.1743</td>\n",
              "      <td>11.8503</td>\n",
              "      <td>-1.4905</td>\n",
              "      <td>9.5214</td>\n",
              "      <td>-0.1508</td>\n",
              "      <td>17.9974</td>\n",
              "    </tr>\n",
              "  </tbody>\n",
              "</table>\n",
              "</div>"
            ],
            "text/plain": [
              "     var_0   var_1    var_2   var_3  ...  var_46  var_47  var_48   var_49\n",
              "0   8.9255 -6.7863  11.9081  5.1187  ...  4.4354  3.9642  3.1364  12.7803\n",
              "1  11.5006 -4.1473  13.8588  5.6208  ...  7.6421  7.7214  2.5837  18.3560\n",
              "2   8.6093 -2.7457  12.0805  6.9427  ...  2.9057  9.7905  1.6704  14.7222\n",
              "3  11.0604 -2.1518   8.9522  5.8428  ...  4.4666  4.7433  0.7178  17.9697\n",
              "4   9.8369 -1.4834  12.8746  5.9405  ... -1.4905  9.5214 -0.1508  17.9974\n",
              "\n",
              "[5 rows x 50 columns]"
            ]
          },
          "metadata": {},
          "execution_count": 15
        }
      ]
    },
    {
      "cell_type": "code",
      "metadata": {
        "colab": {
          "base_uri": "https://localhost:8080/",
          "height": 206
        },
        "id": "95PlLfA-Hwp6",
        "outputId": "9d434319-f024-4aac-9af4-e8610d65b96c"
      },
      "source": [
        "output.head()"
      ],
      "execution_count": 16,
      "outputs": [
        {
          "output_type": "execute_result",
          "data": {
            "text/html": [
              "<div>\n",
              "<style scoped>\n",
              "    .dataframe tbody tr th:only-of-type {\n",
              "        vertical-align: middle;\n",
              "    }\n",
              "\n",
              "    .dataframe tbody tr th {\n",
              "        vertical-align: top;\n",
              "    }\n",
              "\n",
              "    .dataframe thead th {\n",
              "        text-align: right;\n",
              "    }\n",
              "</style>\n",
              "<table border=\"1\" class=\"dataframe\">\n",
              "  <thead>\n",
              "    <tr style=\"text-align: right;\">\n",
              "      <th></th>\n",
              "      <th>target</th>\n",
              "    </tr>\n",
              "  </thead>\n",
              "  <tbody>\n",
              "    <tr>\n",
              "      <th>0</th>\n",
              "      <td>0</td>\n",
              "    </tr>\n",
              "    <tr>\n",
              "      <th>1</th>\n",
              "      <td>0</td>\n",
              "    </tr>\n",
              "    <tr>\n",
              "      <th>2</th>\n",
              "      <td>0</td>\n",
              "    </tr>\n",
              "    <tr>\n",
              "      <th>3</th>\n",
              "      <td>0</td>\n",
              "    </tr>\n",
              "    <tr>\n",
              "      <th>4</th>\n",
              "      <td>0</td>\n",
              "    </tr>\n",
              "  </tbody>\n",
              "</table>\n",
              "</div>"
            ],
            "text/plain": [
              "   target\n",
              "0       0\n",
              "1       0\n",
              "2       0\n",
              "3       0\n",
              "4       0"
            ]
          },
          "metadata": {},
          "execution_count": 16
        }
      ]
    },
    {
      "cell_type": "markdown",
      "metadata": {
        "id": "9hAt53OoIBWc"
      },
      "source": [
        "Now we'll begin creating our model, followed by fitting our data into our model."
      ]
    },
    {
      "cell_type": "code",
      "metadata": {
        "id": "KKvJWOVLIIh4"
      },
      "source": [
        "# First, we'll import our packages'\n",
        "from sklearn.naive_bayes import GaussianNB\n",
        "import sklearn.model_selection as model_selection\n",
        "from sklearn import metrics\n",
        "\n",
        "# Now we'll create our model\n",
        "model = GaussianNB()"
      ],
      "execution_count": 17,
      "outputs": []
    },
    {
      "cell_type": "markdown",
      "metadata": {
        "id": "-F7Cchbw3uLO"
      },
      "source": [
        "Split data up into training and testing subsets"
      ]
    },
    {
      "cell_type": "code",
      "metadata": {
        "id": "HmSXEsqkaNkx"
      },
      "source": [
        "# Create training and testing subsets\n",
        "X_train, X_test, y_train, y_test = model_selection.train_test_split(inputs, np.ravel(output), test_size=0.25)"
      ],
      "execution_count": 18,
      "outputs": []
    },
    {
      "cell_type": "markdown",
      "metadata": {
        "id": "eYJ_oKOIFF-s"
      },
      "source": [
        "Now we'll train and test our model using training and testing subsets."
      ]
    },
    {
      "cell_type": "code",
      "metadata": {
        "colab": {
          "base_uri": "https://localhost:8080/"
        },
        "id": "-BMiWngjFMFc",
        "outputId": "4bc513d6-8a10-42c3-dab8-fc7eb6519298"
      },
      "source": [
        "# Fit our model with training data\n",
        "model.fit(X_train, y_train)\n",
        "\n",
        "# Use testing subset to predict targets\n",
        "y_pred = model.predict(X_test)\n",
        "\n",
        "# Measure accuracy\n",
        "metrics.accuracy_score(y_test, y_pred)"
      ],
      "execution_count": 19,
      "outputs": [
        {
          "output_type": "execute_result",
          "data": {
            "text/plain": [
              "0.9098888888888889"
            ]
          },
          "metadata": {},
          "execution_count": 19
        }
      ]
    },
    {
      "cell_type": "markdown",
      "metadata": {
        "id": "1M7j_ac9Gs_g"
      },
      "source": [
        "Since we trained and tested our model once, now we'll perform our corss validation loop to see how consistant our model is with its predictions. We're also swithing the composition of the training subset with each iteration, allowing us to evaluate how well our model will perform on new data."
      ]
    },
    {
      "cell_type": "code",
      "metadata": {
        "colab": {
          "base_uri": "https://localhost:8080/"
        },
        "id": "vdRKfF169T1m",
        "outputId": "32a836de-4efb-4ddd-92d3-d6bd4a2be7f8"
      },
      "source": [
        "# Initialize empty list to save all accuracy sores\n",
        "results = []\n",
        "\n",
        "# Iterate through training the model 100 times as specified by the range\n",
        "for idx in range(100):\n",
        "\n",
        "  # create our train/test split\n",
        "  X_train, X_test, y_train, y_test = model_selection.train_test_split(inputs, np.ravel(output), test_size=0.25)\n",
        "  \n",
        "  # fit our model with training subset\n",
        "  model.fit(X_train,y_train)\n",
        "  \n",
        "  # use testing subset to test our models prediction \n",
        "  y_pred = model.predict(X_test)\n",
        "  \n",
        "  # add the accuracy score to list of results\n",
        "  results.append(metrics.accuracy_score(y_test,y_pred))\n",
        "\n",
        "print(f\"Mean of results: {np.mean(results, dtype = np.float64)}\")"
      ],
      "execution_count": 20,
      "outputs": [
        {
          "output_type": "stream",
          "name": "stdout",
          "text": [
            "Mean of results: 0.9112722222222222\n"
          ]
        }
      ]
    },
    {
      "cell_type": "markdown",
      "metadata": {
        "id": "JYHVL_jBZPtJ"
      },
      "source": [
        "Plotting our accuracies from our cross validation loop lets use see the distribution of our predictions accuracies."
      ]
    },
    {
      "cell_type": "code",
      "metadata": {
        "colab": {
          "base_uri": "https://localhost:8080/",
          "height": 355
        },
        "id": "3icoubFdDAl6",
        "outputId": "f94bb8b8-8b8b-4833-e7b4-39d7b787c7ca"
      },
      "source": [
        "fig = sns.histplot(results, kde=True)\n",
        "plt.xticks(rotation=-70)\n",
        "plt.xlabel('Scores', labelpad= 20)\n",
        "plt.ylabel('Frequencies', labelpad= 20)\n",
        "plt.title('Initial Accuracy Score Distribution', pad= 25)\n",
        "plt.show(fig)"
      ],
      "execution_count": 21,
      "outputs": [
        {
          "output_type": "display_data",
          "data": {
            "image/png": "[encoded data removed]",
            "text/plain": [
              "<Figure size 432x288 with 1 Axes>"
            ]
          },
          "metadata": {
            "needs_background": "light"
          }
        }
      ]
    },
    {
      "cell_type": "markdown",
      "metadata": {
        "id": "QFyJQFoBtHL8"
      },
      "source": [
        "Our accuracy seems to be fairly evenly distributed, which is what we want. Our model is consistent in its predictions when presented with new data."
      ]
    },
    {
      "cell_type": "markdown",
      "metadata": {
        "id": "6vSijLQQs0zP"
      },
      "source": [
        "Now we'll look at our confusion matrix to see how our model performed through evaluating the amount of the following:\n",
        "* True Negative predictions `(0, 0)`\n",
        "* False Negative predictions `(0, 1)`\n",
        "* False Positive predictions `(1, 0)`\n",
        "* True Positive predictions  `(1, 1)`"
      ]
    },
    {
      "cell_type": "code",
      "metadata": {
        "colab": {
          "base_uri": "https://localhost:8080/",
          "height": 499
        },
        "id": "QhZauEj1DkH3",
        "outputId": "646479c4-b361-4e5d-e515-732647d0f631"
      },
      "source": [
        "plt.figure(figsize=(8,8))\n",
        "init_mat = metrics.confusion_matrix(output,model.predict(inputs))\n",
        "sns.heatmap(init_mat.T, square=True, annot=True, fmt='d', cbar=True, cmap=\"Blues\")\n",
        "plt.xlabel('True label', labelpad= 30)\n",
        "plt.ylabel('Predicted label', labelpad= 30)\n",
        "plt.title('Initial Prediciton Accuracies', pad = 40.0);"
      ],
      "execution_count": 22,
      "outputs": [
        {
          "output_type": "display_data",
          "data": {
            "image/png": "[encoded data removed]",
            "text/plain": [
              "<Figure size 576x576 with 2 Axes>"
            ]
          },
          "metadata": {
            "needs_background": "light"
          }
        }
      ]
    },
    {
      "cell_type": "markdown",
      "metadata": {
        "id": "6QDae0K0HpRl"
      },
      "source": [
        "Something to note about our confusion matrix is that we're predicting a lot of the successful transactions wrong. We have over 3 times more False positives predicting our successful transactions than True negatives. Why might this be?\n"
      ]
    },
    {
      "cell_type": "markdown",
      "metadata": {
        "id": "7sGomwEJY1S3"
      },
      "source": [
        "Lets look at our classification report."
      ]
    },
    {
      "cell_type": "code",
      "metadata": {
        "colab": {
          "base_uri": "https://localhost:8080/",
          "height": 175
        },
        "id": "jh_KPh8gx0yf",
        "outputId": "225c9827-5870-4804-9dcc-508fd005303b"
      },
      "source": [
        "''' (output_dict = True) - output a dictionary to convert \n",
        "    into a pandas dataframe for a neater, cleaner table'''\n",
        "\n",
        "initial_class = pd.DataFrame(metrics.classification_report(y_test, y_pred, output_dict=True))\n",
        "initial_class"
      ],
      "execution_count": 23,
      "outputs": [
        {
          "output_type": "execute_result",
          "data": {
            "text/html": [
              "<div>\n",
              "<style scoped>\n",
              "    .dataframe tbody tr th:only-of-type {\n",
              "        vertical-align: middle;\n",
              "    }\n",
              "\n",
              "    .dataframe tbody tr th {\n",
              "        vertical-align: top;\n",
              "    }\n",
              "\n",
              "    .dataframe thead th {\n",
              "        text-align: right;\n",
              "    }\n",
              "</style>\n",
              "<table border=\"1\" class=\"dataframe\">\n",
              "  <thead>\n",
              "    <tr style=\"text-align: right;\">\n",
              "      <th></th>\n",
              "      <th>0</th>\n",
              "      <th>1</th>\n",
              "      <th>accuracy</th>\n",
              "      <th>macro avg</th>\n",
              "      <th>weighted avg</th>\n",
              "    </tr>\n",
              "  </thead>\n",
              "  <tbody>\n",
              "    <tr>\n",
              "      <th>precision</th>\n",
              "      <td>0.920628</td>\n",
              "      <td>0.669380</td>\n",
              "      <td>0.911711</td>\n",
              "      <td>0.795004</td>\n",
              "      <td>0.895425</td>\n",
              "    </tr>\n",
              "    <tr>\n",
              "      <th>recall</th>\n",
              "      <td>0.986958</td>\n",
              "      <td>0.236819</td>\n",
              "      <td>0.911711</td>\n",
              "      <td>0.611889</td>\n",
              "      <td>0.911711</td>\n",
              "    </tr>\n",
              "    <tr>\n",
              "      <th>f1-score</th>\n",
              "      <td>0.952640</td>\n",
              "      <td>0.349861</td>\n",
              "      <td>0.911711</td>\n",
              "      <td>0.651250</td>\n",
              "      <td>0.892174</td>\n",
              "    </tr>\n",
              "    <tr>\n",
              "      <th>support</th>\n",
              "      <td>40486.000000</td>\n",
              "      <td>4514.000000</td>\n",
              "      <td>0.911711</td>\n",
              "      <td>45000.000000</td>\n",
              "      <td>45000.000000</td>\n",
              "    </tr>\n",
              "  </tbody>\n",
              "</table>\n",
              "</div>"
            ],
            "text/plain": [
              "                      0            1  accuracy     macro avg  weighted avg\n",
              "precision      0.920628     0.669380  0.911711      0.795004      0.895425\n",
              "recall         0.986958     0.236819  0.911711      0.611889      0.911711\n",
              "f1-score       0.952640     0.349861  0.911711      0.651250      0.892174\n",
              "support    40486.000000  4514.000000  0.911711  45000.000000  45000.000000"
            ]
          },
          "metadata": {},
          "execution_count": 23
        }
      ]
    },
    {
      "cell_type": "markdown",
      "metadata": {
        "id": "eu9gQlqoz6ef"
      },
      "source": [
        "Just as we see in our confusion matrix, our classification report shows that our precision in predicting successful transaction `1` is much lower than our precision in predciting unsuccessful transactions `0`. Why is this?"
      ]
    },
    {
      "cell_type": "markdown",
      "metadata": {
        "id": "rq2xbfjl2qcC"
      },
      "source": [
        "Looking at our data, we have a much higher number of rows denoting unsuccessful transactions. Our data is skewed towards this property, so we need to trim off some of that bias from our dataset. To do this, we'll use the two dataframes we made earlier."
      ]
    },
    {
      "cell_type": "markdown",
      "metadata": {
        "id": "8a_WNhvb2_z3"
      },
      "source": [
        "Since we want our unsuccessful transactional data to be balance with our successful transactional data, we need to see how large our datasets are respectively."
      ]
    },
    {
      "cell_type": "code",
      "metadata": {
        "colab": {
          "base_uri": "https://localhost:8080/"
        },
        "id": "cqe_G1qI3Izc",
        "outputId": "2fb7eb8d-e4e0-4dd9-9d9b-ade57b4ae26f"
      },
      "source": [
        "print(f\"Good Transactions: {good_trans.shape}\")\n",
        "print(f\"Bad Transactions: {bad_trans.shape}\")"
      ],
      "execution_count": 24,
      "outputs": [
        {
          "output_type": "stream",
          "name": "stdout",
          "text": [
            "Good Transactions: (18040, 52)\n",
            "Bad Transactions: (161960, 52)\n"
          ]
        }
      ]
    },
    {
      "cell_type": "markdown",
      "metadata": {
        "id": "3h8XoPat3Wcq"
      },
      "source": [
        "We want our `bad_trans` to be the same size as our `good_trans`, so we need to trim that dataset accordingly."
      ]
    },
    {
      "cell_type": "code",
      "metadata": {
        "colab": {
          "base_uri": "https://localhost:8080/"
        },
        "id": "Bypx7jJY3iGH",
        "outputId": "d695e2ed-e182-4863-8cff-06ef7fde76fe"
      },
      "source": [
        "bad_trans_trim = bad_trans.iloc[:18040]\n",
        "\n",
        "# Look at the shape of our new dataframe\n",
        "bad_trans_trim.shape"
      ],
      "execution_count": 25,
      "outputs": [
        {
          "output_type": "execute_result",
          "data": {
            "text/plain": [
              "(18040, 52)"
            ]
          },
          "metadata": {},
          "execution_count": 25
        }
      ]
    },
    {
      "cell_type": "markdown",
      "metadata": {
        "id": "pOOspEC84FXm"
      },
      "source": [
        "Now that we have that done, we have balanced targets, we can join those dataframes into one dataframe which we'll use in our model."
      ]
    },
    {
      "cell_type": "code",
      "metadata": {
        "colab": {
          "base_uri": "https://localhost:8080/"
        },
        "id": "9qDaQOvc4VVi",
        "outputId": "b221547b-5271-4e2c-862f-1a0f97b554bc"
      },
      "source": [
        "# Join dataframes into one\n",
        "trans_data_balance = pd.concat([good_trans, bad_trans_trim])\n",
        "\n",
        "# Check that we have balanced target values\n",
        "values, count = np.unique(trans_data_balance['target'], return_counts=True)\n",
        "\n",
        "print(f\"Values: {values} \\nCounts: {count}\")"
      ],
      "execution_count": 26,
      "outputs": [
        {
          "output_type": "stream",
          "name": "stdout",
          "text": [
            "Values: [0 1] \n",
            "Counts: [18040 18040]\n"
          ]
        }
      ]
    },
    {
      "cell_type": "markdown",
      "metadata": {
        "id": "ZTulQRBy6DFb"
      },
      "source": [
        "We now have our new verified balanced dataframe. We'll fit our model again and see how it does this time."
      ]
    },
    {
      "cell_type": "code",
      "metadata": {
        "colab": {
          "base_uri": "https://localhost:8080/"
        },
        "id": "jRtig2jE6KED",
        "outputId": "2dbdc124-c8d4-4eea-b651-9f944e4749be"
      },
      "source": [
        "# Create out predictors and targets dataframes\n",
        "balance_inputs = pd.DataFrame(trans_data_balance[[i for i in trans_data_copy.columns if 'var' in i]])\n",
        "balance_outputs = pd.DataFrame(trans_data_balance['target'])\n",
        "\n",
        "# Create our model\n",
        "model = GaussianNB()\n",
        "\n",
        "# Initialize empty list to save all accuracy sores\n",
        "balance_results = []\n",
        "\n",
        "# Iterate through training the model 100 times as specified by the range\n",
        "for idx in range(100):\n",
        "\n",
        "  # create our train/test split\n",
        "  X_train, X_test, y_train, y_test = model_selection.train_test_split(balance_inputs, np.ravel(balance_outputs), test_size=0.25)\n",
        "\n",
        "  # fit our model with training subset\n",
        "  model.fit(X_train,y_train)\n",
        "\n",
        "  # use testing subset to test our models prediction \n",
        "  y_pred = model.predict(X_test)\n",
        "\n",
        "  # add the accuracy score to list of results\n",
        "  balance_results.append(metrics.accuracy_score(y_test,y_pred))\n",
        "\n",
        "print(f\"Mean of results: {np.mean(balance_results, dtype = np.float64)}\")"
      ],
      "execution_count": 27,
      "outputs": [
        {
          "output_type": "stream",
          "name": "stdout",
          "text": [
            "Mean of results: 0.7566430155210639\n"
          ]
        }
      ]
    },
    {
      "cell_type": "markdown",
      "metadata": {
        "id": "8wIo6768dJop"
      },
      "source": [
        "Making sure we have a normal distribution of accuracy scores, we'll create a histogram like earlier."
      ]
    },
    {
      "cell_type": "code",
      "metadata": {
        "colab": {
          "base_uri": "https://localhost:8080/",
          "height": 361
        },
        "id": "FMDW1Vwd-8ao",
        "outputId": "cf42616b-1a65-42fe-db54-1e7defc1444b"
      },
      "source": [
        "fig = sns.histplot(balance_results, kde=True)\n",
        "plt.xticks(rotation=-70)\n",
        "plt.xlabel('Scores', labelpad= 20)\n",
        "plt.ylabel('Frequencies', labelpad= 20)\n",
        "plt.title('Balanced Model Accuracy Score Distribution', pad= 25)\n",
        "plt.show(fig)"
      ],
      "execution_count": 28,
      "outputs": [
        {
          "output_type": "display_data",
          "data": {
            "image/png": "[encoded data removed]",
            "text/plain": [
              "<Figure size 432x288 with 1 Axes>"
            ]
          },
          "metadata": {
            "needs_background": "light"
          }
        }
      ]
    },
    {
      "cell_type": "markdown",
      "metadata": {
        "id": "n44Zd5lidXLN"
      },
      "source": [
        "Everything is normally distributed. Now we'll look at our confusion matrix to see how our model performed when fit with our balanced data."
      ]
    },
    {
      "cell_type": "code",
      "metadata": {
        "colab": {
          "base_uri": "https://localhost:8080/",
          "height": 499
        },
        "id": "xskqZwKX_Id4",
        "outputId": "46529ee4-aab3-4123-b125-f2b0371d0a47"
      },
      "source": [
        "plt.figure(figsize=(8,8))\n",
        "balance_mat = metrics.confusion_matrix(balance_outputs,model.predict(balance_inputs))\n",
        "sns.heatmap(balance_mat.T, square=True, annot=True, fmt='d', cbar=True, cmap=\"Blues\")\n",
        "plt.xlabel('True label', labelpad= 30)\n",
        "plt.ylabel('Predicted label', labelpad= 30)\n",
        "plt.title('Balanced Dataset Prediciton Accuracies', pad = 40.0);"
      ],
      "execution_count": 29,
      "outputs": [
        {
          "output_type": "display_data",
          "data": {
            "image/png": "[encoded data removed]",
            "text/plain": [
              "<Figure size 576x576 with 2 Axes>"
            ]
          },
          "metadata": {
            "needs_background": "light"
          }
        }
      ]
    },
    {
      "cell_type": "markdown",
      "metadata": {
        "id": "vuqzOs5pdhFv"
      },
      "source": [
        "What we see is that while the accuracy of predicting unsuccessful transactions `0` decreased (denoted by the amount of True Positives), our accuracy of predicting successful transactions has increased (True Negatives)."
      ]
    },
    {
      "cell_type": "markdown",
      "metadata": {
        "id": "6v7woUHReCHr"
      },
      "source": [
        "Now we'll take a look at our classification report to review how well our model did overall."
      ]
    },
    {
      "cell_type": "code",
      "metadata": {
        "colab": {
          "base_uri": "https://localhost:8080/",
          "height": 175
        },
        "id": "XworjsaU_3zZ",
        "outputId": "283c9522-b128-4f8a-ae88-78e806deca97"
      },
      "source": [
        "X_train, X_test, y_train, y_test = model_selection.train_test_split(balance_inputs, np.ravel(balance_outputs), test_size=0.25)\n",
        "\n",
        "# Fit our model with training data\n",
        "model.fit(X_train, y_train)\n",
        "\n",
        "# Use testing subset to predict targets\n",
        "y_pred = model.predict(X_test)\n",
        "\n",
        "''' (output_dict = True) - output a dictionary to convert \n",
        "    into a pandas dataframe for a neater, cleaner table'''\n",
        "\n",
        "balance_class = pd.DataFrame(metrics.classification_report(y_test, y_pred, output_dict=True))\n",
        "balance_class"
      ],
      "execution_count": 30,
      "outputs": [
        {
          "output_type": "execute_result",
          "data": {
            "text/html": [
              "<div>\n",
              "<style scoped>\n",
              "    .dataframe tbody tr th:only-of-type {\n",
              "        vertical-align: middle;\n",
              "    }\n",
              "\n",
              "    .dataframe tbody tr th {\n",
              "        vertical-align: top;\n",
              "    }\n",
              "\n",
              "    .dataframe thead th {\n",
              "        text-align: right;\n",
              "    }\n",
              "</style>\n",
              "<table border=\"1\" class=\"dataframe\">\n",
              "  <thead>\n",
              "    <tr style=\"text-align: right;\">\n",
              "      <th></th>\n",
              "      <th>0</th>\n",
              "      <th>1</th>\n",
              "      <th>accuracy</th>\n",
              "      <th>macro avg</th>\n",
              "      <th>weighted avg</th>\n",
              "    </tr>\n",
              "  </thead>\n",
              "  <tbody>\n",
              "    <tr>\n",
              "      <th>precision</th>\n",
              "      <td>0.748924</td>\n",
              "      <td>0.760293</td>\n",
              "      <td>0.754435</td>\n",
              "      <td>0.754609</td>\n",
              "      <td>0.754585</td>\n",
              "    </tr>\n",
              "    <tr>\n",
              "      <th>recall</th>\n",
              "      <td>0.768602</td>\n",
              "      <td>0.740147</td>\n",
              "      <td>0.754435</td>\n",
              "      <td>0.754375</td>\n",
              "      <td>0.754435</td>\n",
              "    </tr>\n",
              "    <tr>\n",
              "      <th>f1-score</th>\n",
              "      <td>0.758636</td>\n",
              "      <td>0.750085</td>\n",
              "      <td>0.754435</td>\n",
              "      <td>0.754360</td>\n",
              "      <td>0.754378</td>\n",
              "    </tr>\n",
              "    <tr>\n",
              "      <th>support</th>\n",
              "      <td>4529.000000</td>\n",
              "      <td>4491.000000</td>\n",
              "      <td>0.754435</td>\n",
              "      <td>9020.000000</td>\n",
              "      <td>9020.000000</td>\n",
              "    </tr>\n",
              "  </tbody>\n",
              "</table>\n",
              "</div>"
            ],
            "text/plain": [
              "                     0            1  accuracy    macro avg  weighted avg\n",
              "precision     0.748924     0.760293  0.754435     0.754609      0.754585\n",
              "recall        0.768602     0.740147  0.754435     0.754375      0.754435\n",
              "f1-score      0.758636     0.750085  0.754435     0.754360      0.754378\n",
              "support    4529.000000  4491.000000  0.754435  9020.000000   9020.000000"
            ]
          },
          "metadata": {},
          "execution_count": 30
        }
      ]
    },
    {
      "cell_type": "markdown",
      "metadata": {
        "id": "BHKX4-gheJHt"
      },
      "source": [
        "## Visualization / Analysis of Results"
      ]
    },
    {
      "cell_type": "markdown",
      "metadata": {
        "id": "gujYBwycpgeB"
      },
      "source": [
        "While our overall accuracy decreased with this new dataset, we notice that the accuracy when predicting successful transactions increased. Lets look at our confusion matrix to further evaluate our predictions per target."
      ]
    },
    {
      "cell_type": "markdown",
      "metadata": {
        "id": "kj6wYtmoqMaA"
      },
      "source": [
        "We'll take both matrices and get the percent change of each section within our confusion matrix."
      ]
    },
    {
      "cell_type": "code",
      "metadata": {
        "colab": {
          "base_uri": "https://localhost:8080/"
        },
        "id": "hnpFb0nle7AL",
        "outputId": "aca63cbb-7684-411a-e8cd-5f5de695bea1"
      },
      "source": [
        "# Initial with Imbalanced Dataset\n",
        "init_mat"
      ],
      "execution_count": 31,
      "outputs": [
        {
          "output_type": "execute_result",
          "data": {
            "text/plain": [
              "array([[159896,   2064],\n",
              "       [ 13876,   4164]])"
            ]
          },
          "metadata": {},
          "execution_count": 31
        }
      ]
    },
    {
      "cell_type": "code",
      "metadata": {
        "colab": {
          "base_uri": "https://localhost:8080/"
        },
        "id": "07TMC5lUcGsI",
        "outputId": "4f0a06df-7533-4cef-a43c-1121f1d55107"
      },
      "source": [
        "# Post Balancing Dataset\n",
        "balance_mat"
      ],
      "execution_count": 32,
      "outputs": [
        {
          "output_type": "execute_result",
          "data": {
            "text/plain": [
              "array([[13969,  4071],\n",
              "       [ 4639, 13401]])"
            ]
          },
          "metadata": {},
          "execution_count": 32
        }
      ]
    },
    {
      "cell_type": "code",
      "metadata": {
        "colab": {
          "base_uri": "https://localhost:8080/"
        },
        "id": "5QaMXuNHcgHc",
        "outputId": "ed9d530f-ac09-4cda-86d5-0cbe6f117165"
      },
      "source": [
        "\n",
        "# Find the percentage of change per metric\n",
        "change = ((balance_mat - init_mat) / init_mat) * 100.0\n",
        "\n",
        "# Round and then turn all values into strings\n",
        "change_round = (np.around(change)).astype(str)\n",
        "\n",
        "# Loop to add '+' and '%' symbols where necessary\n",
        "for j in range(2):\n",
        "  for i in range(2):\n",
        "    if float(change_round[i][j]) > 0:\n",
        "      change_round[i][j] = '+' + change_round[i][j] + '%'\n",
        "    else:\n",
        "      change_round[i][j] = change_round[i][j] + '%'\n",
        "\n",
        "change_round"
      ],
      "execution_count": 33,
      "outputs": [
        {
          "output_type": "execute_result",
          "data": {
            "text/plain": [
              "array([['-91.0%', '+97.0%'],\n",
              "       ['-67.0%', '+222.0%']], dtype='<U32')"
            ]
          },
          "metadata": {},
          "execution_count": 33
        }
      ]
    },
    {
      "cell_type": "markdown",
      "metadata": {
        "id": "4PuccIUDq8jP"
      },
      "source": [
        "Now we can plot our confusion matrix and evaluate the changes in predictions from our model using the balanced dataset vice the imbalanced dataset."
      ]
    },
    {
      "cell_type": "code",
      "metadata": {
        "colab": {
          "base_uri": "https://localhost:8080/",
          "height": 499
        },
        "id": "3Gk0Z1O4huP5",
        "outputId": "2fb698bd-e85e-41e4-a8ae-12e17914699c"
      },
      "source": [
        "plt.figure(figsize=(8,8))\n",
        "sns.heatmap(change, square=True, annot=change_round, cbar=True, fmt='', cmap=\"Blues\", vmin=-220, vmax=220)\n",
        "plt.xlabel('True label', labelpad= 30)\n",
        "plt.ylabel('Predicted label', labelpad= 30)\n",
        "plt.title('Change in Prediciton Accuracies', pad = 40.0);"
      ],
      "execution_count": 34,
      "outputs": [
        {
          "output_type": "display_data",
          "data": {
            "image/png": "[encoded data removed]",
            "text/plain": [
              "<Figure size 576x576 with 2 Axes>"
            ]
          },
          "metadata": {
            "needs_background": "light"
          }
        }
      ]
    },
    {
      "cell_type": "markdown",
      "metadata": {
        "id": "Kldqnb9SFBFT"
      },
      "source": [
        "With only 11% of the unsuccessfuk transactional data in the revised subset, we've increased our True Positive predictions by 222%."
      ]
    },
    {
      "cell_type": "markdown",
      "metadata": {
        "id": "xDNIzKwKFqE2"
      },
      "source": [
        "### Comparing metrics in our classification reports"
      ]
    },
    {
      "cell_type": "code",
      "metadata": {
        "colab": {
          "base_uri": "https://localhost:8080/",
          "height": 175
        },
        "id": "6qrgkq1bF-BB",
        "outputId": "f117ad0c-34ed-470f-a42e-a478afb70157"
      },
      "source": [
        "initial_class"
      ],
      "execution_count": 36,
      "outputs": [
        {
          "output_type": "execute_result",
          "data": {
            "text/html": [
              "<div>\n",
              "<style scoped>\n",
              "    .dataframe tbody tr th:only-of-type {\n",
              "        vertical-align: middle;\n",
              "    }\n",
              "\n",
              "    .dataframe tbody tr th {\n",
              "        vertical-align: top;\n",
              "    }\n",
              "\n",
              "    .dataframe thead th {\n",
              "        text-align: right;\n",
              "    }\n",
              "</style>\n",
              "<table border=\"1\" class=\"dataframe\">\n",
              "  <thead>\n",
              "    <tr style=\"text-align: right;\">\n",
              "      <th></th>\n",
              "      <th>0</th>\n",
              "      <th>1</th>\n",
              "      <th>accuracy</th>\n",
              "      <th>macro avg</th>\n",
              "      <th>weighted avg</th>\n",
              "    </tr>\n",
              "  </thead>\n",
              "  <tbody>\n",
              "    <tr>\n",
              "      <th>precision</th>\n",
              "      <td>0.920628</td>\n",
              "      <td>0.669380</td>\n",
              "      <td>0.911711</td>\n",
              "      <td>0.795004</td>\n",
              "      <td>0.895425</td>\n",
              "    </tr>\n",
              "    <tr>\n",
              "      <th>recall</th>\n",
              "      <td>0.986958</td>\n",
              "      <td>0.236819</td>\n",
              "      <td>0.911711</td>\n",
              "      <td>0.611889</td>\n",
              "      <td>0.911711</td>\n",
              "    </tr>\n",
              "    <tr>\n",
              "      <th>f1-score</th>\n",
              "      <td>0.952640</td>\n",
              "      <td>0.349861</td>\n",
              "      <td>0.911711</td>\n",
              "      <td>0.651250</td>\n",
              "      <td>0.892174</td>\n",
              "    </tr>\n",
              "    <tr>\n",
              "      <th>support</th>\n",
              "      <td>40486.000000</td>\n",
              "      <td>4514.000000</td>\n",
              "      <td>0.911711</td>\n",
              "      <td>45000.000000</td>\n",
              "      <td>45000.000000</td>\n",
              "    </tr>\n",
              "  </tbody>\n",
              "</table>\n",
              "</div>"
            ],
            "text/plain": [
              "                      0            1  accuracy     macro avg  weighted avg\n",
              "precision      0.920628     0.669380  0.911711      0.795004      0.895425\n",
              "recall         0.986958     0.236819  0.911711      0.611889      0.911711\n",
              "f1-score       0.952640     0.349861  0.911711      0.651250      0.892174\n",
              "support    40486.000000  4514.000000  0.911711  45000.000000  45000.000000"
            ]
          },
          "metadata": {},
          "execution_count": 36
        }
      ]
    },
    {
      "cell_type": "code",
      "metadata": {
        "colab": {
          "base_uri": "https://localhost:8080/",
          "height": 175
        },
        "id": "lI97AqtYGAU8",
        "outputId": "47f31115-7f3c-4b40-8891-10e87bb70138"
      },
      "source": [
        "balance_class"
      ],
      "execution_count": 37,
      "outputs": [
        {
          "output_type": "execute_result",
          "data": {
            "text/html": [
              "<div>\n",
              "<style scoped>\n",
              "    .dataframe tbody tr th:only-of-type {\n",
              "        vertical-align: middle;\n",
              "    }\n",
              "\n",
              "    .dataframe tbody tr th {\n",
              "        vertical-align: top;\n",
              "    }\n",
              "\n",
              "    .dataframe thead th {\n",
              "        text-align: right;\n",
              "    }\n",
              "</style>\n",
              "<table border=\"1\" class=\"dataframe\">\n",
              "  <thead>\n",
              "    <tr style=\"text-align: right;\">\n",
              "      <th></th>\n",
              "      <th>0</th>\n",
              "      <th>1</th>\n",
              "      <th>accuracy</th>\n",
              "      <th>macro avg</th>\n",
              "      <th>weighted avg</th>\n",
              "    </tr>\n",
              "  </thead>\n",
              "  <tbody>\n",
              "    <tr>\n",
              "      <th>precision</th>\n",
              "      <td>0.748924</td>\n",
              "      <td>0.760293</td>\n",
              "      <td>0.754435</td>\n",
              "      <td>0.754609</td>\n",
              "      <td>0.754585</td>\n",
              "    </tr>\n",
              "    <tr>\n",
              "      <th>recall</th>\n",
              "      <td>0.768602</td>\n",
              "      <td>0.740147</td>\n",
              "      <td>0.754435</td>\n",
              "      <td>0.754375</td>\n",
              "      <td>0.754435</td>\n",
              "    </tr>\n",
              "    <tr>\n",
              "      <th>f1-score</th>\n",
              "      <td>0.758636</td>\n",
              "      <td>0.750085</td>\n",
              "      <td>0.754435</td>\n",
              "      <td>0.754360</td>\n",
              "      <td>0.754378</td>\n",
              "    </tr>\n",
              "    <tr>\n",
              "      <th>support</th>\n",
              "      <td>4529.000000</td>\n",
              "      <td>4491.000000</td>\n",
              "      <td>0.754435</td>\n",
              "      <td>9020.000000</td>\n",
              "      <td>9020.000000</td>\n",
              "    </tr>\n",
              "  </tbody>\n",
              "</table>\n",
              "</div>"
            ],
            "text/plain": [
              "                     0            1  accuracy    macro avg  weighted avg\n",
              "precision     0.748924     0.760293  0.754435     0.754609      0.754585\n",
              "recall        0.768602     0.740147  0.754435     0.754375      0.754435\n",
              "f1-score      0.758636     0.750085  0.754435     0.754360      0.754378\n",
              "support    4529.000000  4491.000000  0.754435  9020.000000   9020.000000"
            ]
          },
          "metadata": {},
          "execution_count": 37
        }
      ]
    },
    {
      "cell_type": "markdown",
      "metadata": {
        "id": "RccK17QaGDT4"
      },
      "source": [
        "In our balanced dataset classification report, we see the following significant changes: \n",
        "* We're maintaining approx. 74% precision predicting unsuccessful transactions with approx. 11% of training data.\n",
        "* We've increased performance in successful transaction predictions (utilizing a smaller dataset)\n",
        " * 215% increase in Recall\n",
        " * 115% increase in F1-Score"
      ]
    },
    {
      "cell_type": "markdown",
      "metadata": {
        "id": "i3EUDHZ7G3wo"
      },
      "source": [
        "Our model now has the capability of predicting the success of a transaction based on the customers previous transaction data. *With the current balanced dataset, we get an approx 75% accuracy with balanced probabilties for both target variables*"
      ]
    },
    {
      "cell_type": "markdown",
      "metadata": {
        "id": "ryOMrNbxH8I6"
      },
      "source": [
        "### Model in Action"
      ]
    },
    {
      "cell_type": "code",
      "metadata": {
        "colab": {
          "base_uri": "https://localhost:8080/"
        },
        "id": "6qWNKXDvwwvV",
        "outputId": "7edc2c50-f1bf-45f8-8341-29f52d24ebda"
      },
      "source": [
        "# Grab random number within range of rows in dataset\n",
        "idx = np.random.randint(36080)\n",
        "\n",
        "# Pull data from specified row\n",
        "newX = np.array(balance_inputs.iloc[idx]).reshape(1, -1)\n",
        "\n",
        "# Predict target from data pull\n",
        "print(f\"Prediction: {model.predict(newX)[0]}\")\n",
        "\n",
        "# Compare with actual target\n",
        "print(f\"Actual: {balance_outputs.iloc[idx][0]}\")"
      ],
      "execution_count": 48,
      "outputs": [
        {
          "output_type": "stream",
          "name": "stdout",
          "text": [
            "Prediction: 0\n",
            "Actual: 0\n"
          ]
        }
      ]
    }
  ]
}